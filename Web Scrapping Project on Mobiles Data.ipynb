{
 "cells": [
  {
   "cell_type": "markdown",
   "id": "548d4cc4",
   "metadata": {},
   "source": [
    "#### https://www.flipkart.com/search?q=mobiles&as=on&as-show=on&otracker=AS_Query_TrendingAutoSuggest_1_0_na_na_na&otracker1=AS_Query_TrendingAutoSuggest_1_0_na_na_na&as-pos=1&as-type=TRENDING&suggestionId=mobiles&requestId=ddf9a58c-49be-452a-8253-ad634b2ef9c2//2"
   ]
  },
  {
   "cell_type": "code",
   "execution_count": 4,
   "id": "9b41b906",
   "metadata": {},
   "outputs": [],
   "source": [
    "data = []\n",
    "\n",
    "a= []\n",
    "Name = []           #1\n",
    "Colour = []         #2\n",
    "Ram = []            #3\n",
    "Rom = []            #4\n",
    "Screen_size = []    #5\n",
    "Rear_cam = []       #6\n",
    "Front_cam = []      #7\n",
    "Battery = []        #8\n",
    "Processor = []      #9\n",
    "Price = []          #10\n",
    "Link = []           #11"
   ]
  },
  {
   "cell_type": "code",
   "execution_count": 5,
   "id": "cda79649",
   "metadata": {},
   "outputs": [],
   "source": [
    "Name.clear()\n",
    "Colour.clear()\n",
    "Rom.clear()\n",
    "Ram.clear()\n",
    "Screen_size.clear()\n",
    "Rear_cam.clear()\n",
    "Front_cam.clear()\n",
    "Battery.clear()\n",
    "Processor.clear()\n",
    "Price.clear()\n",
    "a.clear()"
   ]
  },
  {
   "cell_type": "code",
   "execution_count": 2,
   "id": "134a1a00",
   "metadata": {},
   "outputs": [],
   "source": [
    "import numpy as np\n",
    "import pandas as pd\n",
    "import re\n",
    "from bs4 import BeautifulSoup\n",
    "import requests"
   ]
  },
  {
   "cell_type": "code",
   "execution_count": 7,
   "id": "095de449",
   "metadata": {},
   "outputs": [],
   "source": [
    "for i in range(1,26):\n",
    "    page = requests.get('https://www.flipkart.com/search?q=mobiles&as=on&as-show=on&otracker=AS_Query_TrendingAutoSuggest_1_0_na_na_na&otracker1=AS_Query_TrendingAutoSuggest_1_0_na_na_na&as-pos=2&as-type=TRENDING&suggestionId=mobiles&requestId=ddf9a58c-49be-452a-8253-ad634b2ef9c2/page={}'.format(i))\n",
    "    \n",
    "    soup = BeautifulSoup(page.text)\n",
    "    \n",
    "    #1 tracking the Name of the mobile phones\n",
    "    \n",
    "    name = soup.findAll('div', {'class' : '_4rR01T'})\n",
    "    \n",
    "    for i in name:\n",
    "        Name.append(i.text.split(' (')[0])\n",
    "     \n",
    "    #2 tracking the Colour of the mobile phones\n",
    "    \n",
    "    for i in name:\n",
    "        Colour.append(i.text.split(' (')[1].split(',')[0])\n",
    "    \n",
    "    \n",
    "    #3 tracking the Rom of the mobile phones\n",
    "    \n",
    "    data1 = soup.findAll('ul', {'class': '_1xgFaf'})\n",
    "    data1 = [ i.text for i in data1]\n",
    "    \n",
    "    for i in data1:\n",
    "        Rom.append(i.split('|')[1].split()[0])\n",
    "        \n",
    "    #4 tracking the Ram of the mobile phones\n",
    "    \n",
    "    for i in data1:\n",
    "        Ram.append(i.split('|')[0].split()[0])\n",
    "        \n",
    "    #5 tracking the Screen_size of the mobile phones\n",
    "    \n",
    "    for i in data1:\n",
    "        Screen_size.append(i.split('(')[1].split()[0])    \n",
    "        \n",
    "     \n",
    "    #6 tracking the Rear_cam of the mobile phones\n",
    "    for i in data1 :\n",
    "        Rear_cam.append(re.findall(r'\\d+MP', i)[0])\n",
    "\n",
    "    \n",
    "    #7 tracking the Front_cam of the mobile phones\n",
    "    \n",
    "    for i in data1:\n",
    "        Front_cam.append(i.split('Fro')[0].split('| ')[-1].split('M')[0])\n",
    "        \n",
    "        \n",
    "    #8 tracking the Battery of the mobile phones    \n",
    "    for i in data1:\n",
    "        Battery.append(i.split('Front Camera')[1].split()[0])\n",
    "        \n",
    "        \n",
    "    #9 tracking the Processor of the mobile phones\n",
    "    for i in data1:\n",
    "        Processor.append(i.split('Battery')[1].split('Proc')[0])\n",
    "        \n",
    "        \n",
    "    #10 tracking the Price of the mobile phones    \n",
    "    prices = soup.findAll('div', {'class' : '_30jeq3 _1_WHN1'}) \n",
    "    for i in prices:\n",
    "        Price.append(i.text.strip('₹')) "
   ]
  },
  {
   "cell_type": "markdown",
   "id": "d58cf2e5",
   "metadata": {},
   "source": [
    "data1[6:8]"
   ]
  },
  {
   "cell_type": "markdown",
   "id": "3cdb3290",
   "metadata": {},
   "source": [
    "name = soup.findAll('div', {'class' : '_4rR01T'})\n",
    "for i in name:\n",
    "    Colour.append(i.text.split(' (')[1].split(',')[0])\n",
    "Colour    "
   ]
  },
  {
   "cell_type": "markdown",
   "id": "e67c0fa5",
   "metadata": {},
   "source": [
    "name[7:9]"
   ]
  },
  {
   "cell_type": "code",
   "execution_count": 8,
   "id": "df0f2708",
   "metadata": {},
   "outputs": [
    {
     "name": "stdout",
     "output_type": "stream",
     "text": [
      "600\n",
      "600\n",
      "600\n",
      "600\n",
      "600\n",
      "600\n",
      "600\n",
      "600\n",
      "600\n",
      "600\n"
     ]
    },
    {
     "data": {
      "text/plain": [
       "(None, None, None, None)"
      ]
     },
     "execution_count": 8,
     "metadata": {},
     "output_type": "execute_result"
    }
   ],
   "source": [
    "print(len(Colour)), print(len(Name)), print(len(Rom)), print(len(Ram)), print(len(Screen_size)),print(len(Rear_cam))\n",
    "print(len(Front_cam)), print(len(Battery)), print(len(Processor)), print(len(Price))"
   ]
  },
  {
   "cell_type": "markdown",
   "id": "d0615bbe",
   "metadata": {},
   "source": [
    "# DataFrame"
   ]
  },
  {
   "cell_type": "code",
   "execution_count": null,
   "id": "bc60761b",
   "metadata": {},
   "outputs": [],
   "source": []
  },
  {
   "cell_type": "code",
   "execution_count": 14,
   "id": "712962da",
   "metadata": {},
   "outputs": [],
   "source": [
    "li = {'Name': Name, 'Colour': Colour, 'Rom' : Rom, 'Ram' : Ram, 'Screen_size': Screen_size, 'Rear_cam': Rear_cam ,\n",
    "      'Front_cam': Front_cam, 'Battery' : Battery, 'Processor' : Processor, 'Price': Price}"
   ]
  },
  {
   "cell_type": "code",
   "execution_count": 15,
   "id": "6e74c3c1",
   "metadata": {},
   "outputs": [
    {
     "data": {
      "text/plain": [
       "dict_keys(['Name', 'Colour', 'Rom', 'Ram', 'Screen_size', 'Rear_cam', 'Front_cam', 'Battery', 'Processor', 'Price'])"
      ]
     },
     "execution_count": 15,
     "metadata": {},
     "output_type": "execute_result"
    }
   ],
   "source": [
    "li.keys()"
   ]
  },
  {
   "cell_type": "code",
   "execution_count": 16,
   "id": "91b444ef",
   "metadata": {},
   "outputs": [],
   "source": [
    "Mobile_spec = pd.DataFrame(li)"
   ]
  },
  {
   "cell_type": "code",
   "execution_count": 17,
   "id": "63083e2e",
   "metadata": {},
   "outputs": [
    {
     "data": {
      "text/html": [
       "<div>\n",
       "<style scoped>\n",
       "    .dataframe tbody tr th:only-of-type {\n",
       "        vertical-align: middle;\n",
       "    }\n",
       "\n",
       "    .dataframe tbody tr th {\n",
       "        vertical-align: top;\n",
       "    }\n",
       "\n",
       "    .dataframe thead th {\n",
       "        text-align: right;\n",
       "    }\n",
       "</style>\n",
       "<table border=\"1\" class=\"dataframe\">\n",
       "  <thead>\n",
       "    <tr style=\"text-align: right;\">\n",
       "      <th></th>\n",
       "      <th>Name</th>\n",
       "      <th>Colour</th>\n",
       "      <th>Rom</th>\n",
       "      <th>Ram</th>\n",
       "      <th>Screen_size</th>\n",
       "      <th>Rear_cam</th>\n",
       "      <th>Front_cam</th>\n",
       "      <th>Battery</th>\n",
       "      <th>Processor</th>\n",
       "      <th>Price</th>\n",
       "    </tr>\n",
       "  </thead>\n",
       "  <tbody>\n",
       "  </tbody>\n",
       "</table>\n",
       "</div>"
      ],
      "text/plain": [
       "Empty DataFrame\n",
       "Columns: [Name, Colour, Rom, Ram, Screen_size, Rear_cam, Front_cam, Battery, Processor, Price]\n",
       "Index: []"
      ]
     },
     "execution_count": 17,
     "metadata": {},
     "output_type": "execute_result"
    }
   ],
   "source": [
    "Mobile_spec"
   ]
  },
  {
   "cell_type": "markdown",
   "id": "2d6e03de",
   "metadata": {},
   "source": [
    "## Cleaning the data"
   ]
  },
  {
   "cell_type": "code",
   "execution_count": 13,
   "id": "4c81d757",
   "metadata": {},
   "outputs": [],
   "source": [
    "#1 to remove the MP\n",
    "\n",
    "Rear_cam = [i.split('M')[0] for i in Rear_cam]"
   ]
  },
  {
   "cell_type": "code",
   "execution_count": 14,
   "id": "4d803553",
   "metadata": {},
   "outputs": [],
   "source": [
    "#2 removeing the Comma from the Price column\n",
    "\n",
    "for i in Price:\n",
    "    a.append(i.split(',')[0] + i.split(',')[1] )\n"
   ]
  },
  {
   "cell_type": "code",
   "execution_count": 15,
   "id": "32daab39",
   "metadata": {},
   "outputs": [],
   "source": [
    "#3 conevrting in to the data types\n",
    "\n",
    "# converting the string values of 'Ram', 'Rom', 'Front_cam', 'Rear_cam' ,'Price' and 'Battery'  to int values\n",
    "# Screen_size values to float \n",
    "Rom = [int(i) for i in Rom]\n",
    "Ram = [int(i) for i in Ram]\n",
    "Screen_size = [float(i) for i in Screen_size]\n",
    "Rear_cam = [int(i) for i in Rear_cam]\n",
    "Front_cam = [int(i) for i in Front_cam]\n",
    "Battery = [int(i) for i in Battery]\n",
    "a = [int(i) for i in a]"
   ]
  },
  {
   "cell_type": "code",
   "execution_count": 16,
   "id": "f76e0138",
   "metadata": {},
   "outputs": [],
   "source": [
    "li = {'Name': Name, 'Colour': Colour, 'Rom' : Rom, 'Ram' : Ram, 'Screen_size': Screen_size, 'Rear_cam': Rear_cam ,\n",
    "      'Front_cam': Front_cam, 'Battery' : Battery, 'Processor' : Processor, 'Price': a}"
   ]
  },
  {
   "cell_type": "code",
   "execution_count": 17,
   "id": "043f699c",
   "metadata": {},
   "outputs": [],
   "source": [
    "Mobile_specNew = pd.DataFrame(li)"
   ]
  },
  {
   "cell_type": "code",
   "execution_count": 18,
   "id": "ba1dfaa0",
   "metadata": {},
   "outputs": [
    {
     "data": {
      "text/html": [
       "<div>\n",
       "<style scoped>\n",
       "    .dataframe tbody tr th:only-of-type {\n",
       "        vertical-align: middle;\n",
       "    }\n",
       "\n",
       "    .dataframe tbody tr th {\n",
       "        vertical-align: top;\n",
       "    }\n",
       "\n",
       "    .dataframe thead th {\n",
       "        text-align: right;\n",
       "    }\n",
       "</style>\n",
       "<table border=\"1\" class=\"dataframe\">\n",
       "  <thead>\n",
       "    <tr style=\"text-align: right;\">\n",
       "      <th></th>\n",
       "      <th>Name</th>\n",
       "      <th>Colour</th>\n",
       "      <th>Rom</th>\n",
       "      <th>Ram</th>\n",
       "      <th>Screen_size</th>\n",
       "      <th>Rear_cam</th>\n",
       "      <th>Front_cam</th>\n",
       "      <th>Battery</th>\n",
       "      <th>Processor</th>\n",
       "      <th>Price</th>\n",
       "    </tr>\n",
       "  </thead>\n",
       "  <tbody>\n",
       "    <tr>\n",
       "      <th>0</th>\n",
       "      <td>realme C20</td>\n",
       "      <td>Cool Grey</td>\n",
       "      <td>32</td>\n",
       "      <td>2</td>\n",
       "      <td>6.50</td>\n",
       "      <td>8</td>\n",
       "      <td>5</td>\n",
       "      <td>5000</td>\n",
       "      <td>MediaTek Helio G35</td>\n",
       "      <td>7499</td>\n",
       "    </tr>\n",
       "    <tr>\n",
       "      <th>1</th>\n",
       "      <td>realme C20</td>\n",
       "      <td>Cool Blue</td>\n",
       "      <td>32</td>\n",
       "      <td>2</td>\n",
       "      <td>6.50</td>\n",
       "      <td>8</td>\n",
       "      <td>5</td>\n",
       "      <td>5000</td>\n",
       "      <td>MediaTek Helio G35</td>\n",
       "      <td>7499</td>\n",
       "    </tr>\n",
       "    <tr>\n",
       "      <th>2</th>\n",
       "      <td>POCO C31</td>\n",
       "      <td>Royal Blue</td>\n",
       "      <td>64</td>\n",
       "      <td>4</td>\n",
       "      <td>6.53</td>\n",
       "      <td>13</td>\n",
       "      <td>5</td>\n",
       "      <td>5000</td>\n",
       "      <td>MediaTek Helio G35</td>\n",
       "      <td>8999</td>\n",
       "    </tr>\n",
       "    <tr>\n",
       "      <th>3</th>\n",
       "      <td>OPPO K10</td>\n",
       "      <td>Black Carbon</td>\n",
       "      <td>128</td>\n",
       "      <td>6</td>\n",
       "      <td>6.59</td>\n",
       "      <td>50</td>\n",
       "      <td>16</td>\n",
       "      <td>5000</td>\n",
       "      <td>Qualcomm Snapdragon 680</td>\n",
       "      <td>14990</td>\n",
       "    </tr>\n",
       "    <tr>\n",
       "      <th>4</th>\n",
       "      <td>MOTOROLA G60</td>\n",
       "      <td>Soft Silver</td>\n",
       "      <td>128</td>\n",
       "      <td>6</td>\n",
       "      <td>6.78</td>\n",
       "      <td>108</td>\n",
       "      <td>32</td>\n",
       "      <td>6000</td>\n",
       "      <td>Qualcomm Snapdragon 732G</td>\n",
       "      <td>16999</td>\n",
       "    </tr>\n",
       "    <tr>\n",
       "      <th>...</th>\n",
       "      <td>...</td>\n",
       "      <td>...</td>\n",
       "      <td>...</td>\n",
       "      <td>...</td>\n",
       "      <td>...</td>\n",
       "      <td>...</td>\n",
       "      <td>...</td>\n",
       "      <td>...</td>\n",
       "      <td>...</td>\n",
       "      <td>...</td>\n",
       "    </tr>\n",
       "    <tr>\n",
       "      <th>595</th>\n",
       "      <td>SAMSUNG Galaxy F23 5G</td>\n",
       "      <td>Forest Green</td>\n",
       "      <td>128</td>\n",
       "      <td>4</td>\n",
       "      <td>6.60</td>\n",
       "      <td>50</td>\n",
       "      <td>8</td>\n",
       "      <td>5000</td>\n",
       "      <td>Qualcomm Snapdragon 750G</td>\n",
       "      <td>15999</td>\n",
       "    </tr>\n",
       "    <tr>\n",
       "      <th>596</th>\n",
       "      <td>realme 9i</td>\n",
       "      <td>Prism Blue</td>\n",
       "      <td>64</td>\n",
       "      <td>4</td>\n",
       "      <td>6.60</td>\n",
       "      <td>50</td>\n",
       "      <td>16</td>\n",
       "      <td>5000</td>\n",
       "      <td>Qualcomm Snapdragon 680 (SM6225)</td>\n",
       "      <td>12999</td>\n",
       "    </tr>\n",
       "    <tr>\n",
       "      <th>597</th>\n",
       "      <td>REDMI 10</td>\n",
       "      <td>Caribbean Green</td>\n",
       "      <td>128</td>\n",
       "      <td>6</td>\n",
       "      <td>6.70</td>\n",
       "      <td>50</td>\n",
       "      <td>5</td>\n",
       "      <td>6000</td>\n",
       "      <td>Qualcomm Snapdragon 680</td>\n",
       "      <td>12999</td>\n",
       "    </tr>\n",
       "    <tr>\n",
       "      <th>598</th>\n",
       "      <td>REDMI 10</td>\n",
       "      <td>Midnight Black</td>\n",
       "      <td>128</td>\n",
       "      <td>6</td>\n",
       "      <td>6.70</td>\n",
       "      <td>50</td>\n",
       "      <td>5</td>\n",
       "      <td>6000</td>\n",
       "      <td>Qualcomm Snapdragon 680</td>\n",
       "      <td>12999</td>\n",
       "    </tr>\n",
       "    <tr>\n",
       "      <th>599</th>\n",
       "      <td>POCO M3 Pro 5G</td>\n",
       "      <td>Power Black</td>\n",
       "      <td>64</td>\n",
       "      <td>4</td>\n",
       "      <td>6.50</td>\n",
       "      <td>48</td>\n",
       "      <td>8</td>\n",
       "      <td>5000</td>\n",
       "      <td>MediaTek Dimensity 700</td>\n",
       "      <td>14499</td>\n",
       "    </tr>\n",
       "  </tbody>\n",
       "</table>\n",
       "<p>600 rows × 10 columns</p>\n",
       "</div>"
      ],
      "text/plain": [
       "                      Name           Colour  Rom  Ram  Screen_size  Rear_cam  \\\n",
       "0               realme C20        Cool Grey   32    2         6.50         8   \n",
       "1               realme C20        Cool Blue   32    2         6.50         8   \n",
       "2                 POCO C31       Royal Blue   64    4         6.53        13   \n",
       "3                 OPPO K10     Black Carbon  128    6         6.59        50   \n",
       "4             MOTOROLA G60      Soft Silver  128    6         6.78       108   \n",
       "..                     ...              ...  ...  ...          ...       ...   \n",
       "595  SAMSUNG Galaxy F23 5G     Forest Green  128    4         6.60        50   \n",
       "596              realme 9i       Prism Blue   64    4         6.60        50   \n",
       "597               REDMI 10  Caribbean Green  128    6         6.70        50   \n",
       "598               REDMI 10   Midnight Black  128    6         6.70        50   \n",
       "599         POCO M3 Pro 5G      Power Black   64    4         6.50        48   \n",
       "\n",
       "     Front_cam  Battery                          Processor  Price  \n",
       "0            5     5000                MediaTek Helio G35    7499  \n",
       "1            5     5000                MediaTek Helio G35    7499  \n",
       "2            5     5000                MediaTek Helio G35    8999  \n",
       "3           16     5000           Qualcomm Snapdragon 680   14990  \n",
       "4           32     6000          Qualcomm Snapdragon 732G   16999  \n",
       "..         ...      ...                                ...    ...  \n",
       "595          8     5000          Qualcomm Snapdragon 750G   15999  \n",
       "596         16     5000  Qualcomm Snapdragon 680 (SM6225)   12999  \n",
       "597          5     6000           Qualcomm Snapdragon 680   12999  \n",
       "598          5     6000           Qualcomm Snapdragon 680   12999  \n",
       "599          8     5000            MediaTek Dimensity 700   14499  \n",
       "\n",
       "[600 rows x 10 columns]"
      ]
     },
     "execution_count": 18,
     "metadata": {},
     "output_type": "execute_result"
    }
   ],
   "source": [
    "Mobile_specNew"
   ]
  },
  {
   "cell_type": "code",
   "execution_count": 20,
   "id": "3e48a9e5",
   "metadata": {
    "scrolled": true
   },
   "outputs": [
    {
     "data": {
      "text/plain": [
       "Name            object\n",
       "Colour          object\n",
       "Rom              int64\n",
       "Ram              int64\n",
       "Screen_size    float64\n",
       "Rear_cam         int64\n",
       "Front_cam        int64\n",
       "Battery          int64\n",
       "Processor       object\n",
       "Price            int64\n",
       "dtype: object"
      ]
     },
     "execution_count": 20,
     "metadata": {},
     "output_type": "execute_result"
    }
   ],
   "source": [
    "Mobile_specNew.dtypes\n"
   ]
  },
  {
   "cell_type": "code",
   "execution_count": 19,
   "id": "66783f90",
   "metadata": {},
   "outputs": [
    {
     "data": {
      "text/plain": [
       "Name           0\n",
       "Colour         0\n",
       "Rom            0\n",
       "Ram            0\n",
       "Screen_size    0\n",
       "Rear_cam       0\n",
       "Front_cam      0\n",
       "Battery        0\n",
       "Processor      0\n",
       "Price          0\n",
       "dtype: int64"
      ]
     },
     "execution_count": 19,
     "metadata": {},
     "output_type": "execute_result"
    }
   ],
   "source": [
    "Mobile_specNew.isnull().sum()"
   ]
  },
  {
   "cell_type": "markdown",
   "id": "246f51f6",
   "metadata": {},
   "source": [
    "### Data into the csv file"
   ]
  },
  {
   "cell_type": "code",
   "execution_count": 137,
   "id": "3accc522",
   "metadata": {},
   "outputs": [],
   "source": [
    "Mobiledata_csv = Mobile_specNew.to_csv('Mobile_spec.csv', index = False)"
   ]
  },
  {
   "cell_type": "code",
   "execution_count": 138,
   "id": "c1144d2c",
   "metadata": {},
   "outputs": [
    {
     "name": "stdout",
     "output_type": "stream",
     "text": [
      "13\n"
     ]
    },
    {
     "data": {
      "text/plain": [
       "array(['realme C20', 'POCO C31', 'OPPO K10', 'MOTOROLA G60', 'REDMI 10',\n",
       "       'realme C35', 'realme C25Y', 'realme C21Y', 'REDMI 9i Sport',\n",
       "       'realme 9i', 'POCO M3 Pro 5G', 'MOTOROLA e40',\n",
       "       'SAMSUNG Galaxy F23 5G'], dtype=object)"
      ]
     },
     "execution_count": 138,
     "metadata": {},
     "output_type": "execute_result"
    }
   ],
   "source": [
    "print(Mobile_specNew.Name.nunique())\n",
    "Mobile_specNew.Name.unique()"
   ]
  },
  {
   "cell_type": "code",
   "execution_count": null,
   "id": "ca7294d9",
   "metadata": {},
   "outputs": [],
   "source": []
  },
  {
   "cell_type": "code",
   "execution_count": 16,
   "id": "9f1324d1",
   "metadata": {},
   "outputs": [],
   "source": [
    "mData = pd.read_csv(\"D:\\learn soft\\By innomatics\\Web scapring project\\Mobile_spec.csv\")"
   ]
  },
  {
   "cell_type": "code",
   "execution_count": 17,
   "id": "fb6ca55b",
   "metadata": {},
   "outputs": [
    {
     "data": {
      "text/html": [
       "<div>\n",
       "<style scoped>\n",
       "    .dataframe tbody tr th:only-of-type {\n",
       "        vertical-align: middle;\n",
       "    }\n",
       "\n",
       "    .dataframe tbody tr th {\n",
       "        vertical-align: top;\n",
       "    }\n",
       "\n",
       "    .dataframe thead th {\n",
       "        text-align: right;\n",
       "    }\n",
       "</style>\n",
       "<table border=\"1\" class=\"dataframe\">\n",
       "  <thead>\n",
       "    <tr style=\"text-align: right;\">\n",
       "      <th></th>\n",
       "      <th>Name</th>\n",
       "      <th>Colour</th>\n",
       "      <th>Rom</th>\n",
       "      <th>Ram</th>\n",
       "      <th>Screen_size</th>\n",
       "      <th>Rear_cam</th>\n",
       "      <th>Front_cam</th>\n",
       "      <th>Battery</th>\n",
       "      <th>Processor</th>\n",
       "      <th>Price</th>\n",
       "    </tr>\n",
       "  </thead>\n",
       "  <tbody>\n",
       "    <tr>\n",
       "      <th>0</th>\n",
       "      <td>realme C20</td>\n",
       "      <td>Cool Grey</td>\n",
       "      <td>32</td>\n",
       "      <td>2</td>\n",
       "      <td>6.50</td>\n",
       "      <td>8</td>\n",
       "      <td>5</td>\n",
       "      <td>5000</td>\n",
       "      <td>MediaTek Helio G35</td>\n",
       "      <td>7499</td>\n",
       "    </tr>\n",
       "    <tr>\n",
       "      <th>1</th>\n",
       "      <td>realme C20</td>\n",
       "      <td>Cool Blue</td>\n",
       "      <td>32</td>\n",
       "      <td>2</td>\n",
       "      <td>6.50</td>\n",
       "      <td>8</td>\n",
       "      <td>5</td>\n",
       "      <td>5000</td>\n",
       "      <td>MediaTek Helio G35</td>\n",
       "      <td>7499</td>\n",
       "    </tr>\n",
       "    <tr>\n",
       "      <th>2</th>\n",
       "      <td>POCO C31</td>\n",
       "      <td>Royal Blue</td>\n",
       "      <td>64</td>\n",
       "      <td>4</td>\n",
       "      <td>6.53</td>\n",
       "      <td>13</td>\n",
       "      <td>5</td>\n",
       "      <td>5000</td>\n",
       "      <td>MediaTek Helio G35</td>\n",
       "      <td>8999</td>\n",
       "    </tr>\n",
       "    <tr>\n",
       "      <th>3</th>\n",
       "      <td>OPPO K10</td>\n",
       "      <td>Black Carbon</td>\n",
       "      <td>128</td>\n",
       "      <td>6</td>\n",
       "      <td>6.59</td>\n",
       "      <td>50</td>\n",
       "      <td>16</td>\n",
       "      <td>5000</td>\n",
       "      <td>Qualcomm Snapdragon 680</td>\n",
       "      <td>14990</td>\n",
       "    </tr>\n",
       "    <tr>\n",
       "      <th>4</th>\n",
       "      <td>MOTOROLA G60</td>\n",
       "      <td>Soft Silver</td>\n",
       "      <td>128</td>\n",
       "      <td>6</td>\n",
       "      <td>6.78</td>\n",
       "      <td>108</td>\n",
       "      <td>32</td>\n",
       "      <td>6000</td>\n",
       "      <td>Qualcomm Snapdragon 732G</td>\n",
       "      <td>16999</td>\n",
       "    </tr>\n",
       "    <tr>\n",
       "      <th>...</th>\n",
       "      <td>...</td>\n",
       "      <td>...</td>\n",
       "      <td>...</td>\n",
       "      <td>...</td>\n",
       "      <td>...</td>\n",
       "      <td>...</td>\n",
       "      <td>...</td>\n",
       "      <td>...</td>\n",
       "      <td>...</td>\n",
       "      <td>...</td>\n",
       "    </tr>\n",
       "    <tr>\n",
       "      <th>595</th>\n",
       "      <td>SAMSUNG Galaxy F23 5G</td>\n",
       "      <td>Forest Green</td>\n",
       "      <td>128</td>\n",
       "      <td>4</td>\n",
       "      <td>6.60</td>\n",
       "      <td>50</td>\n",
       "      <td>8</td>\n",
       "      <td>5000</td>\n",
       "      <td>Qualcomm Snapdragon 750G</td>\n",
       "      <td>15999</td>\n",
       "    </tr>\n",
       "    <tr>\n",
       "      <th>596</th>\n",
       "      <td>realme 9i</td>\n",
       "      <td>Prism Blue</td>\n",
       "      <td>64</td>\n",
       "      <td>4</td>\n",
       "      <td>6.60</td>\n",
       "      <td>50</td>\n",
       "      <td>16</td>\n",
       "      <td>5000</td>\n",
       "      <td>Qualcomm Snapdragon 680 (SM6225)</td>\n",
       "      <td>12999</td>\n",
       "    </tr>\n",
       "    <tr>\n",
       "      <th>597</th>\n",
       "      <td>REDMI 10</td>\n",
       "      <td>Caribbean Green</td>\n",
       "      <td>128</td>\n",
       "      <td>6</td>\n",
       "      <td>6.70</td>\n",
       "      <td>50</td>\n",
       "      <td>5</td>\n",
       "      <td>6000</td>\n",
       "      <td>Qualcomm Snapdragon 680</td>\n",
       "      <td>12999</td>\n",
       "    </tr>\n",
       "    <tr>\n",
       "      <th>598</th>\n",
       "      <td>REDMI 10</td>\n",
       "      <td>Midnight Black</td>\n",
       "      <td>128</td>\n",
       "      <td>6</td>\n",
       "      <td>6.70</td>\n",
       "      <td>50</td>\n",
       "      <td>5</td>\n",
       "      <td>6000</td>\n",
       "      <td>Qualcomm Snapdragon 680</td>\n",
       "      <td>12999</td>\n",
       "    </tr>\n",
       "    <tr>\n",
       "      <th>599</th>\n",
       "      <td>POCO M3 Pro 5G</td>\n",
       "      <td>Power Black</td>\n",
       "      <td>64</td>\n",
       "      <td>4</td>\n",
       "      <td>6.50</td>\n",
       "      <td>48</td>\n",
       "      <td>8</td>\n",
       "      <td>5000</td>\n",
       "      <td>MediaTek Dimensity 700</td>\n",
       "      <td>14499</td>\n",
       "    </tr>\n",
       "  </tbody>\n",
       "</table>\n",
       "<p>600 rows × 10 columns</p>\n",
       "</div>"
      ],
      "text/plain": [
       "                      Name           Colour  Rom  Ram  Screen_size  Rear_cam  \\\n",
       "0               realme C20        Cool Grey   32    2         6.50         8   \n",
       "1               realme C20        Cool Blue   32    2         6.50         8   \n",
       "2                 POCO C31       Royal Blue   64    4         6.53        13   \n",
       "3                 OPPO K10     Black Carbon  128    6         6.59        50   \n",
       "4             MOTOROLA G60      Soft Silver  128    6         6.78       108   \n",
       "..                     ...              ...  ...  ...          ...       ...   \n",
       "595  SAMSUNG Galaxy F23 5G     Forest Green  128    4         6.60        50   \n",
       "596              realme 9i       Prism Blue   64    4         6.60        50   \n",
       "597               REDMI 10  Caribbean Green  128    6         6.70        50   \n",
       "598               REDMI 10   Midnight Black  128    6         6.70        50   \n",
       "599         POCO M3 Pro 5G      Power Black   64    4         6.50        48   \n",
       "\n",
       "     Front_cam  Battery                          Processor  Price  \n",
       "0            5     5000                MediaTek Helio G35    7499  \n",
       "1            5     5000                MediaTek Helio G35    7499  \n",
       "2            5     5000                MediaTek Helio G35    8999  \n",
       "3           16     5000           Qualcomm Snapdragon 680   14990  \n",
       "4           32     6000          Qualcomm Snapdragon 732G   16999  \n",
       "..         ...      ...                                ...    ...  \n",
       "595          8     5000          Qualcomm Snapdragon 750G   15999  \n",
       "596         16     5000  Qualcomm Snapdragon 680 (SM6225)   12999  \n",
       "597          5     6000           Qualcomm Snapdragon 680   12999  \n",
       "598          5     6000           Qualcomm Snapdragon 680   12999  \n",
       "599          8     5000            MediaTek Dimensity 700   14499  \n",
       "\n",
       "[600 rows x 10 columns]"
      ]
     },
     "execution_count": 17,
     "metadata": {},
     "output_type": "execute_result"
    }
   ],
   "source": [
    "mData"
   ]
  },
  {
   "cell_type": "code",
   "execution_count": 19,
   "id": "73c7a0b2",
   "metadata": {},
   "outputs": [],
   "source": [
    "import matplotlib.pyplot as plt \n",
    "import warnings\n",
    "warnings.filterwarnings('ignore')"
   ]
  },
  {
   "cell_type": "markdown",
   "id": "8330efb9",
   "metadata": {},
   "source": [
    "### DATA ANALYSIS"
   ]
  },
  {
   "cell_type": "code",
   "execution_count": 14,
   "id": "f920b15e",
   "metadata": {},
   "outputs": [],
   "source": [
    "import numpy as np\n",
    "import matplotlib.pyplot as plt\n",
    "import pandas as pd\n",
    "import warnings\n",
    "import seaborn as sns"
   ]
  },
  {
   "cell_type": "code",
   "execution_count": 18,
   "id": "ee4d6379",
   "metadata": {},
   "outputs": [],
   "source": [
    "warnings.filterwarnings('ignore')"
   ]
  },
  {
   "cell_type": "code",
   "execution_count": 19,
   "id": "9b242342",
   "metadata": {},
   "outputs": [
    {
     "data": {
      "text/html": [
       "<div>\n",
       "<style scoped>\n",
       "    .dataframe tbody tr th:only-of-type {\n",
       "        vertical-align: middle;\n",
       "    }\n",
       "\n",
       "    .dataframe tbody tr th {\n",
       "        vertical-align: top;\n",
       "    }\n",
       "\n",
       "    .dataframe thead th {\n",
       "        text-align: right;\n",
       "    }\n",
       "</style>\n",
       "<table border=\"1\" class=\"dataframe\">\n",
       "  <thead>\n",
       "    <tr style=\"text-align: right;\">\n",
       "      <th></th>\n",
       "      <th>Name</th>\n",
       "      <th>Colour</th>\n",
       "      <th>Rom</th>\n",
       "      <th>Ram</th>\n",
       "      <th>Screen_size</th>\n",
       "      <th>Rear_cam</th>\n",
       "      <th>Front_cam</th>\n",
       "      <th>Battery</th>\n",
       "      <th>Processor</th>\n",
       "      <th>Price</th>\n",
       "    </tr>\n",
       "  </thead>\n",
       "  <tbody>\n",
       "    <tr>\n",
       "      <th>0</th>\n",
       "      <td>realme C20</td>\n",
       "      <td>Cool Grey</td>\n",
       "      <td>32</td>\n",
       "      <td>2</td>\n",
       "      <td>6.50</td>\n",
       "      <td>8</td>\n",
       "      <td>5</td>\n",
       "      <td>5000</td>\n",
       "      <td>MediaTek Helio G35</td>\n",
       "      <td>7499</td>\n",
       "    </tr>\n",
       "    <tr>\n",
       "      <th>1</th>\n",
       "      <td>realme C20</td>\n",
       "      <td>Cool Blue</td>\n",
       "      <td>32</td>\n",
       "      <td>2</td>\n",
       "      <td>6.50</td>\n",
       "      <td>8</td>\n",
       "      <td>5</td>\n",
       "      <td>5000</td>\n",
       "      <td>MediaTek Helio G35</td>\n",
       "      <td>7499</td>\n",
       "    </tr>\n",
       "    <tr>\n",
       "      <th>2</th>\n",
       "      <td>POCO C31</td>\n",
       "      <td>Royal Blue</td>\n",
       "      <td>64</td>\n",
       "      <td>4</td>\n",
       "      <td>6.53</td>\n",
       "      <td>13</td>\n",
       "      <td>5</td>\n",
       "      <td>5000</td>\n",
       "      <td>MediaTek Helio G35</td>\n",
       "      <td>8999</td>\n",
       "    </tr>\n",
       "    <tr>\n",
       "      <th>3</th>\n",
       "      <td>OPPO K10</td>\n",
       "      <td>Black Carbon</td>\n",
       "      <td>128</td>\n",
       "      <td>6</td>\n",
       "      <td>6.59</td>\n",
       "      <td>50</td>\n",
       "      <td>16</td>\n",
       "      <td>5000</td>\n",
       "      <td>Qualcomm Snapdragon 680</td>\n",
       "      <td>14990</td>\n",
       "    </tr>\n",
       "    <tr>\n",
       "      <th>4</th>\n",
       "      <td>MOTOROLA G60</td>\n",
       "      <td>Soft Silver</td>\n",
       "      <td>128</td>\n",
       "      <td>6</td>\n",
       "      <td>6.78</td>\n",
       "      <td>108</td>\n",
       "      <td>32</td>\n",
       "      <td>6000</td>\n",
       "      <td>Qualcomm Snapdragon 732G</td>\n",
       "      <td>16999</td>\n",
       "    </tr>\n",
       "  </tbody>\n",
       "</table>\n",
       "</div>"
      ],
      "text/plain": [
       "           Name        Colour  Rom  Ram  Screen_size  Rear_cam  Front_cam  \\\n",
       "0    realme C20     Cool Grey   32    2         6.50         8          5   \n",
       "1    realme C20     Cool Blue   32    2         6.50         8          5   \n",
       "2      POCO C31    Royal Blue   64    4         6.53        13          5   \n",
       "3      OPPO K10  Black Carbon  128    6         6.59        50         16   \n",
       "4  MOTOROLA G60   Soft Silver  128    6         6.78       108         32   \n",
       "\n",
       "   Battery                  Processor  Price  \n",
       "0     5000        MediaTek Helio G35    7499  \n",
       "1     5000        MediaTek Helio G35    7499  \n",
       "2     5000        MediaTek Helio G35    8999  \n",
       "3     5000   Qualcomm Snapdragon 680   14990  \n",
       "4     6000  Qualcomm Snapdragon 732G   16999  "
      ]
     },
     "execution_count": 19,
     "metadata": {},
     "output_type": "execute_result"
    }
   ],
   "source": [
    "mData.head()"
   ]
  },
  {
   "cell_type": "code",
   "execution_count": 144,
   "id": "1f7c5a5c",
   "metadata": {},
   "outputs": [
    {
     "data": {
      "text/html": [
       "<div>\n",
       "<style scoped>\n",
       "    .dataframe tbody tr th:only-of-type {\n",
       "        vertical-align: middle;\n",
       "    }\n",
       "\n",
       "    .dataframe tbody tr th {\n",
       "        vertical-align: top;\n",
       "    }\n",
       "\n",
       "    .dataframe thead th {\n",
       "        text-align: right;\n",
       "    }\n",
       "</style>\n",
       "<table border=\"1\" class=\"dataframe\">\n",
       "  <thead>\n",
       "    <tr style=\"text-align: right;\">\n",
       "      <th></th>\n",
       "      <th>Rom</th>\n",
       "      <th>Ram</th>\n",
       "      <th>Screen_size</th>\n",
       "      <th>Rear_cam</th>\n",
       "      <th>Front_cam</th>\n",
       "      <th>Battery</th>\n",
       "      <th>Price</th>\n",
       "    </tr>\n",
       "  </thead>\n",
       "  <tbody>\n",
       "    <tr>\n",
       "      <th>count</th>\n",
       "      <td>600.000000</td>\n",
       "      <td>600.000000</td>\n",
       "      <td>600.000000</td>\n",
       "      <td>600.000000</td>\n",
       "      <td>600.000000</td>\n",
       "      <td>600.000000</td>\n",
       "      <td>600.000000</td>\n",
       "    </tr>\n",
       "    <tr>\n",
       "      <th>mean</th>\n",
       "      <td>75.893333</td>\n",
       "      <td>4.155000</td>\n",
       "      <td>6.576083</td>\n",
       "      <td>37.911667</td>\n",
       "      <td>8.580000</td>\n",
       "      <td>5206.666667</td>\n",
       "      <td>11673.708333</td>\n",
       "    </tr>\n",
       "    <tr>\n",
       "      <th>std</th>\n",
       "      <td>35.522176</td>\n",
       "      <td>1.153195</td>\n",
       "      <td>0.082726</td>\n",
       "      <td>23.273589</td>\n",
       "      <td>6.179583</td>\n",
       "      <td>405.252108</td>\n",
       "      <td>2837.248448</td>\n",
       "    </tr>\n",
       "    <tr>\n",
       "      <th>min</th>\n",
       "      <td>32.000000</td>\n",
       "      <td>2.000000</td>\n",
       "      <td>6.500000</td>\n",
       "      <td>8.000000</td>\n",
       "      <td>5.000000</td>\n",
       "      <td>5000.000000</td>\n",
       "      <td>7499.000000</td>\n",
       "    </tr>\n",
       "    <tr>\n",
       "      <th>25%</th>\n",
       "      <td>64.000000</td>\n",
       "      <td>4.000000</td>\n",
       "      <td>6.500000</td>\n",
       "      <td>13.000000</td>\n",
       "      <td>5.000000</td>\n",
       "      <td>5000.000000</td>\n",
       "      <td>9142.250000</td>\n",
       "    </tr>\n",
       "    <tr>\n",
       "      <th>50%</th>\n",
       "      <td>64.000000</td>\n",
       "      <td>4.000000</td>\n",
       "      <td>6.530000</td>\n",
       "      <td>50.000000</td>\n",
       "      <td>5.000000</td>\n",
       "      <td>5000.000000</td>\n",
       "      <td>10999.000000</td>\n",
       "    </tr>\n",
       "    <tr>\n",
       "      <th>75%</th>\n",
       "      <td>128.000000</td>\n",
       "      <td>4.000000</td>\n",
       "      <td>6.600000</td>\n",
       "      <td>50.000000</td>\n",
       "      <td>8.000000</td>\n",
       "      <td>5000.000000</td>\n",
       "      <td>13999.000000</td>\n",
       "    </tr>\n",
       "    <tr>\n",
       "      <th>max</th>\n",
       "      <td>128.000000</td>\n",
       "      <td>6.000000</td>\n",
       "      <td>6.780000</td>\n",
       "      <td>108.000000</td>\n",
       "      <td>32.000000</td>\n",
       "      <td>6000.000000</td>\n",
       "      <td>16999.000000</td>\n",
       "    </tr>\n",
       "  </tbody>\n",
       "</table>\n",
       "</div>"
      ],
      "text/plain": [
       "              Rom         Ram  Screen_size    Rear_cam   Front_cam  \\\n",
       "count  600.000000  600.000000   600.000000  600.000000  600.000000   \n",
       "mean    75.893333    4.155000     6.576083   37.911667    8.580000   \n",
       "std     35.522176    1.153195     0.082726   23.273589    6.179583   \n",
       "min     32.000000    2.000000     6.500000    8.000000    5.000000   \n",
       "25%     64.000000    4.000000     6.500000   13.000000    5.000000   \n",
       "50%     64.000000    4.000000     6.530000   50.000000    5.000000   \n",
       "75%    128.000000    4.000000     6.600000   50.000000    8.000000   \n",
       "max    128.000000    6.000000     6.780000  108.000000   32.000000   \n",
       "\n",
       "           Battery         Price  \n",
       "count   600.000000    600.000000  \n",
       "mean   5206.666667  11673.708333  \n",
       "std     405.252108   2837.248448  \n",
       "min    5000.000000   7499.000000  \n",
       "25%    5000.000000   9142.250000  \n",
       "50%    5000.000000  10999.000000  \n",
       "75%    5000.000000  13999.000000  \n",
       "max    6000.000000  16999.000000  "
      ]
     },
     "execution_count": 144,
     "metadata": {},
     "output_type": "execute_result"
    }
   ],
   "source": [
    "mData.describe()"
   ]
  },
  {
   "cell_type": "markdown",
   "id": "eed06957",
   "metadata": {},
   "source": [
    "#### Interpretations"
   ]
  },
  {
   "cell_type": "markdown",
   "id": "d20fd159",
   "metadata": {},
   "source": [
    "- the describe shows the mean, min, max, median etc\n",
    "- minimum Rom is '32 gb' and maximum is '128 gb'\n",
    "- minimum Ram is '2 gb' and maximum is '6 gb'\n",
    "- minimum screen size is '6.5 inches' and maximum is '6.78 inches'\n",
    "- minimum Frontcam is '5 mp' and maximum is '32mp'\n",
    "- minimum Frontcam is '8 mp' and maximum is '108mp'\n",
    "- minimum Price of mobile is '7499' and maximum is '16999'"
   ]
  },
  {
   "cell_type": "code",
   "execution_count": 28,
   "id": "6731e8a4",
   "metadata": {},
   "outputs": [
    {
     "data": {
      "text/plain": [
       "Name           0\n",
       "Colour         0\n",
       "Rom            0\n",
       "Ram            0\n",
       "Screen_size    0\n",
       "Rear_cam       0\n",
       "Front_cam      0\n",
       "Battery        0\n",
       "Processor      0\n",
       "Price          0\n",
       "dtype: int64"
      ]
     },
     "execution_count": 28,
     "metadata": {},
     "output_type": "execute_result"
    }
   ],
   "source": [
    "mData.isnull().sum()"
   ]
  },
  {
   "cell_type": "markdown",
   "id": "01b8ed25",
   "metadata": {},
   "source": [
    "#### Interpretation"
   ]
  },
  {
   "cell_type": "markdown",
   "id": "ede51dc4",
   "metadata": {},
   "source": [
    "- there is no null values in the data"
   ]
  },
  {
   "cell_type": "markdown",
   "id": "09a6a7fc",
   "metadata": {},
   "source": [
    "### Uni-varient analysis"
   ]
  },
  {
   "cell_type": "code",
   "execution_count": 117,
   "id": "170c1176",
   "metadata": {},
   "outputs": [
    {
     "data": {
      "text/plain": [
       "<AxesSubplot:xlabel='count', ylabel='Rom'>"
      ]
     },
     "execution_count": 117,
     "metadata": {},
     "output_type": "execute_result"
    },
    {
     "data": {
      "image/png": "[encoded data removed]",
      "text/plain": [
       "<Figure size 432x288 with 1 Axes>"
      ]
     },
     "metadata": {
      "needs_background": "light"
     },
     "output_type": "display_data"
    }
   ],
   "source": [
    "sns.countplot(y='Rom', data=mData) "
   ]
  },
  {
   "cell_type": "markdown",
   "id": "37ce7422",
   "metadata": {},
   "source": [
    "#### interpretations"
   ]
  },
  {
   "cell_type": "markdown",
   "id": "c6cd39df",
   "metadata": {},
   "source": [
    "- In this graph, The graph Btw count and Rom.\n",
    "- Count is use for how many times a mobile Rom Repeat in this Mobile data.\n",
    "- The highest Rom is 128 and the lowest Rom is 32 shown in this graph.\n",
    "- The highest rom 128 Repeat more times and Rom 32 is repeat less times."
   ]
  },
  {
   "cell_type": "markdown",
   "id": "3e90e4ed",
   "metadata": {},
   "source": [
    "### Bi-varient analysis"
   ]
  },
  {
   "cell_type": "code",
   "execution_count": 119,
   "id": "522fc263",
   "metadata": {},
   "outputs": [
    {
     "data": {
      "text/plain": [
       "<seaborn.axisgrid.FacetGrid at 0x2558d1931f0>"
      ]
     },
     "execution_count": 119,
     "metadata": {},
     "output_type": "execute_result"
    },
    {
     "data": {
      "image/png": "[encoded data removed]",
      "text/plain": [
       "<Figure size 252x360 with 1 Axes>"
      ]
     },
     "metadata": {
      "needs_background": "light"
     },
     "output_type": "display_data"
    }
   ],
   "source": [
    "sns.catplot(x='Rom',y='Ram',kind = 'box' ,data=mData,aspect=0.7)"
   ]
  },
  {
   "cell_type": "markdown",
   "id": "4645813f",
   "metadata": {},
   "source": [
    "#### interpretations"
   ]
  },
  {
   "cell_type": "markdown",
   "id": "a8d62bdb",
   "metadata": {},
   "source": [
    "- This Graph is Bi-Variate analysis graph.\n",
    "- In this Graph, Graph shown between Rom and Ram.\n",
    "- This graph is box graph.\n",
    "- In this graph shown Rom 32 equal to Ram 3, Rom 64 equal to Ram 4 and Rom 128 equal to 4 or 8 shown in graph."
   ]
  },
  {
   "cell_type": "markdown",
   "id": "a6d37cdd",
   "metadata": {},
   "source": [
    "### Multi-veriant analysis"
   ]
  },
  {
   "cell_type": "code",
   "execution_count": 133,
   "id": "faa6dec4",
   "metadata": {},
   "outputs": [
    {
     "data": {
      "text/plain": [
       "<seaborn.axisgrid.FacetGrid at 0x25594d9b280>"
      ]
     },
     "execution_count": 133,
     "metadata": {},
     "output_type": "execute_result"
    },
    {
     "data": {
      "image/png": "[encoded data removed]",
      "text/plain": [
       "<Figure size 1571.38x360 with 6 Axes>"
      ]
     },
     "metadata": {
      "needs_background": "light"
     },
     "output_type": "display_data"
    }
   ],
   "source": [
    "sns.catplot(x='Rom',y='Ram',col='Screen_size',kind = 'box', hue='Front_cam',data=mData,aspect=0.7)"
   ]
  },
  {
   "cell_type": "markdown",
   "id": "71789584",
   "metadata": {},
   "source": [
    "#### interpretations"
   ]
  },
  {
   "cell_type": "markdown",
   "id": "436325a2",
   "metadata": {},
   "source": [
    "- This graph is Multi-variate analysis graph.\n",
    "- In this graph, the graph b/w Ram, Rom, Screen_size and Front_cam.\n",
    "- In this graph shown Rom is 128 equal to Ram 4 and the screen_size 6.4 or Font_cam 16.\n",
    "- In this graph shown Rom is  32 equal to ram 3 and the screen size is 6.5 or Font_cam 5."
   ]
  },
  {
   "cell_type": "markdown",
   "id": "e854b42c",
   "metadata": {},
   "source": [
    "###  number of unique brands"
   ]
  },
  {
   "cell_type": "code",
   "execution_count": 146,
   "id": "ff86692c",
   "metadata": {},
   "outputs": [
    {
     "name": "stdout",
     "output_type": "stream",
     "text": [
      "13\n"
     ]
    },
    {
     "data": {
      "text/plain": [
       "array(['realme C20', 'POCO C31', 'OPPO K10', 'MOTOROLA G60', 'REDMI 10',\n",
       "       'realme C35', 'realme C25Y', 'realme C21Y', 'REDMI 9i Sport',\n",
       "       'realme 9i', 'POCO M3 Pro 5G', 'MOTOROLA e40',\n",
       "       'SAMSUNG Galaxy F23 5G'], dtype=object)"
      ]
     },
     "execution_count": 146,
     "metadata": {},
     "output_type": "execute_result"
    }
   ],
   "source": [
    "print(mData.Name.nunique())\n",
    "\n",
    "mData.Name.unique()"
   ]
  },
  {
   "cell_type": "code",
   "execution_count": 99,
   "id": "15d31513",
   "metadata": {},
   "outputs": [
    {
     "data": {
      "image/png": "[encoded data removed]",
      "text/plain": [
       "<Figure size 432x288 with 1 Axes>"
      ]
     },
     "metadata": {
      "needs_background": "light"
     },
     "output_type": "display_data"
    }
   ],
   "source": [
    "sns.countplot(y='Name', data=mData)\n",
    "plt.show()"
   ]
  },
  {
   "cell_type": "markdown",
   "id": "25ac060b",
   "metadata": {},
   "source": [
    "#### Interpretations"
   ]
  },
  {
   "cell_type": "markdown",
   "id": "47cb02f7",
   "metadata": {},
   "source": [
    "- This is countplot Graph btw all phones.\n",
    "- In this graph shown 'Redmi 10' mobiles are more pieces then other mobiles.\n",
    "- In this graph shows 'MOTOROLA e40' mobiles have less pieces are shown."
   ]
  },
  {
   "cell_type": "code",
   "execution_count": 100,
   "id": "e3862162",
   "metadata": {},
   "outputs": [
    {
     "data": {
      "text/plain": [
       "REDMI 10                 99\n",
       "POCO C31                 75\n",
       "realme C21Y              75\n",
       "realme 9i                65\n",
       "realme C20               50\n",
       "POCO M3 Pro 5G           49\n",
       "SAMSUNG Galaxy F23 5G    40\n",
       "realme C35               31\n",
       "realme C25Y              26\n",
       "MOTOROLA G60             25\n",
       "OPPO K10                 25\n",
       "REDMI 9i Sport           25\n",
       "MOTOROLA e40             15\n",
       "Name: Name, dtype: int64"
      ]
     },
     "execution_count": 100,
     "metadata": {},
     "output_type": "execute_result"
    }
   ],
   "source": [
    "mData.Name.value_counts()"
   ]
  },
  {
   "cell_type": "markdown",
   "id": "fa0575fa",
   "metadata": {},
   "source": [
    "#### Interpretations"
   ]
  },
  {
   "cell_type": "markdown",
   "id": "9437e207",
   "metadata": {},
   "source": [
    "\n",
    "  - total number of realme c20 phones are approxmately 50\n",
    "  - total number of REDMI 10 phones are 99 and etc\n",
    "  - max number of phone model is REDME 10\n",
    "  - min number of phone model is MOTOROLA e40"
   ]
  },
  {
   "cell_type": "markdown",
   "id": "27051a82",
   "metadata": {},
   "source": [
    "###  unique Colours "
   ]
  },
  {
   "cell_type": "code",
   "execution_count": 101,
   "id": "722cd59e",
   "metadata": {},
   "outputs": [
    {
     "name": "stdout",
     "output_type": "stream",
     "text": [
      "22\n"
     ]
    },
    {
     "data": {
      "text/plain": [
       "array(['Cool Grey', 'Cool Blue', 'Royal Blue', 'Black Carbon',\n",
       "       'Soft Silver', 'Midnight Black', 'Shadow Gray', 'Glowing Green',\n",
       "       'Glacier Blue', 'Caribbean Green', 'Cross Blue', 'Carbon Black',\n",
       "       'Cross Black', 'Prism Blue', 'Prism Black', 'Power Black',\n",
       "       'Pink Clay', 'Blue Flame', 'Aqua Blue', 'Forest Green',\n",
       "       'Glowing Black', 'Metal Grey'], dtype=object)"
      ]
     },
     "execution_count": 101,
     "metadata": {},
     "output_type": "execute_result"
    }
   ],
   "source": [
    "print(mData.Colour.nunique())\n",
    "mData.Colour.unique()"
   ]
  },
  {
   "cell_type": "code",
   "execution_count": 238,
   "id": "1c9a498b",
   "metadata": {},
   "outputs": [
    {
     "data": {
      "text/plain": [
       "Cross Blue         50\n",
       "Caribbean Green    50\n",
       "Royal Blue         50\n",
       "Cool Blue          50\n",
       "Midnight Black     49\n",
       "Prism Black        40\n",
       "Glowing Green      30\n",
       "Cool Grey          25\n",
       "Cross Black        25\n",
       "Glacier Blue       25\n",
       "Shadow Gray        25\n",
       "Carbon Black       25\n",
       "Soft Silver        25\n",
       "Prism Blue         25\n",
       "Power Black        24\n",
       "Aqua Blue          20\n",
       "Forest Green       20\n",
       "Pink Clay          15\n",
       "Black Carbon       15\n",
       "Blue Flame         10\n",
       "Metal Grey          1\n",
       "Glowing Black       1\n",
       "Name: Colour, dtype: int64"
      ]
     },
     "execution_count": 238,
     "metadata": {},
     "output_type": "execute_result"
    }
   ],
   "source": [
    "mData.Colour.value_counts()"
   ]
  },
  {
   "cell_type": "code",
   "execution_count": 102,
   "id": "a1371d9b",
   "metadata": {},
   "outputs": [
    {
     "data": {
      "image/png": "[encoded data removed]",
      "text/plain": [
       "<Figure size 432x288 with 1 Axes>"
      ]
     },
     "metadata": {
      "needs_background": "light"
     },
     "output_type": "display_data"
    }
   ],
   "source": [
    "sns.countplot(y='Colour', data=mData)\n",
    "plt.show()"
   ]
  },
  {
   "cell_type": "markdown",
   "id": "1ebb15d2",
   "metadata": {},
   "source": [
    "#### Interpretations"
   ]
  },
  {
   "cell_type": "markdown",
   "id": "82950ba3",
   "metadata": {},
   "source": [
    "- there are '22' unique colours present in the data \n",
    "- lowest present colour is 'Glowing Black' and 'Metal Grey'\n"
   ]
  },
  {
   "cell_type": "markdown",
   "id": "d89ede86",
   "metadata": {},
   "source": [
    "###  what is the avarage price of mobile price"
   ]
  },
  {
   "cell_type": "code",
   "execution_count": 103,
   "id": "84cdd227",
   "metadata": {},
   "outputs": [
    {
     "data": {
      "image/png": "[encoded data removed]",
      "text/plain": [
       "<Figure size 360x360 with 1 Axes>"
      ]
     },
     "metadata": {
      "needs_background": "light"
     },
     "output_type": "display_data"
    }
   ],
   "source": [
    "sns.catplot(y='Price', data=mData, kind='box')\n",
    "plt.ylabel('Price')\n",
    "plt.title('Price of Mobiles')\n",
    "plt.show()"
   ]
  },
  {
   "cell_type": "markdown",
   "id": "b981098c",
   "metadata": {},
   "source": [
    "#### Interpretation"
   ]
  },
  {
   "cell_type": "markdown",
   "id": "a22bc731",
   "metadata": {},
   "source": [
    "  - In this graph avg price of mobiles is 11000\n",
    "  - in this graph shows highest mobiles price is 16999.\n",
    "  - In this graph lowest price is 7499."
   ]
  },
  {
   "cell_type": "markdown",
   "id": "2563690c",
   "metadata": {},
   "source": [
    "###  Models with the  Processor"
   ]
  },
  {
   "cell_type": "code",
   "execution_count": 104,
   "id": "e27c36a1",
   "metadata": {},
   "outputs": [
    {
     "data": {
      "text/plain": [
       "MediaTek Helio G35                   125\n",
       "Qualcomm Snapdragon 680              124\n",
       "Unisoc T610                           75\n",
       "Qualcomm Snapdragon 680 (SM6225)      65\n",
       "MediaTek Dimensity 700                49\n",
       "Qualcomm Snapdragon 750G              40\n",
       "Unisoc Tiger T616                     31\n",
       "Unisoc T610 Octa Core                 26\n",
       "Qualcomm Snapdragon 732G              25\n",
       "MediaTek Helio G25                    25\n",
       "UNISOC T700                           15\n",
       "Name: Processor, dtype: int64"
      ]
     },
     "execution_count": 104,
     "metadata": {},
     "output_type": "execute_result"
    }
   ],
   "source": [
    "mData.Processor.value_counts()"
   ]
  },
  {
   "cell_type": "markdown",
   "id": "2262361a",
   "metadata": {},
   "source": [
    "#### Interpretation"
   ]
  },
  {
   "cell_type": "markdown",
   "id": "09c5add0",
   "metadata": {},
   "source": [
    "- the highly avilable Processer from the dataset is 'MediaTek Helio G35'\n",
    "- the min avilable Processer from the data is 'UNISOC T700'"
   ]
  },
  {
   "cell_type": "code",
   "execution_count": 105,
   "id": "7de14fb1",
   "metadata": {},
   "outputs": [
    {
     "data": {
      "image/png": "[encoded data removed]",
      "text/plain": [
       "<Figure size 432x288 with 1 Axes>"
      ]
     },
     "metadata": {
      "needs_background": "light"
     },
     "output_type": "display_data"
    }
   ],
   "source": [
    "plt.bar(mData['Name'], mData['Processor'])\n",
    "plt.xlabel('Processor ')\n",
    "plt.ylabel('Model name')\n",
    "plt.title('Plot of Model vs Processor')\n",
    "plt.xticks(rotation = 50)\n",
    "plt.show()"
   ]
  },
  {
   "cell_type": "markdown",
   "id": "b9fd4dd3",
   "metadata": {},
   "source": [
    "###  Which model has the highest and lowest price?"
   ]
  },
  {
   "cell_type": "code",
   "execution_count": 106,
   "id": "f997ef8f",
   "metadata": {},
   "outputs": [
    {
     "data": {
      "text/html": [
       "<div>\n",
       "<style scoped>\n",
       "    .dataframe tbody tr th:only-of-type {\n",
       "        vertical-align: middle;\n",
       "    }\n",
       "\n",
       "    .dataframe tbody tr th {\n",
       "        vertical-align: top;\n",
       "    }\n",
       "\n",
       "    .dataframe thead th {\n",
       "        text-align: right;\n",
       "    }\n",
       "</style>\n",
       "<table border=\"1\" class=\"dataframe\">\n",
       "  <thead>\n",
       "    <tr style=\"text-align: right;\">\n",
       "      <th></th>\n",
       "      <th></th>\n",
       "      <th>Colour</th>\n",
       "    </tr>\n",
       "    <tr>\n",
       "      <th>Price</th>\n",
       "      <th>Name</th>\n",
       "      <th></th>\n",
       "    </tr>\n",
       "  </thead>\n",
       "  <tbody>\n",
       "    <tr>\n",
       "      <th rowspan=\"2\" valign=\"top\">16999</th>\n",
       "      <th>MOTOROLA G60</th>\n",
       "      <td>25</td>\n",
       "    </tr>\n",
       "    <tr>\n",
       "      <th>SAMSUNG Galaxy F23 5G</th>\n",
       "      <td>20</td>\n",
       "    </tr>\n",
       "  </tbody>\n",
       "</table>\n",
       "</div>"
      ],
      "text/plain": [
       "                             Colour\n",
       "Price Name                         \n",
       "16999 MOTOROLA G60               25\n",
       "      SAMSUNG Galaxy F23 5G      20"
      ]
     },
     "execution_count": 106,
     "metadata": {},
     "output_type": "execute_result"
    }
   ],
   "source": [
    "mData.groupby(['Price', 'Name']).count().loc[16999:, :'Colour']"
   ]
  },
  {
   "cell_type": "code",
   "execution_count": 65,
   "id": "0605e44c",
   "metadata": {},
   "outputs": [
    {
     "data": {
      "text/html": [
       "<div>\n",
       "<style scoped>\n",
       "    .dataframe tbody tr th:only-of-type {\n",
       "        vertical-align: middle;\n",
       "    }\n",
       "\n",
       "    .dataframe tbody tr th {\n",
       "        vertical-align: top;\n",
       "    }\n",
       "\n",
       "    .dataframe thead th {\n",
       "        text-align: right;\n",
       "    }\n",
       "</style>\n",
       "<table border=\"1\" class=\"dataframe\">\n",
       "  <thead>\n",
       "    <tr style=\"text-align: right;\">\n",
       "      <th></th>\n",
       "      <th></th>\n",
       "      <th>Colour</th>\n",
       "    </tr>\n",
       "    <tr>\n",
       "      <th>Price</th>\n",
       "      <th>Name</th>\n",
       "      <th></th>\n",
       "    </tr>\n",
       "  </thead>\n",
       "  <tbody>\n",
       "    <tr>\n",
       "      <th>7499</th>\n",
       "      <th>realme C20</th>\n",
       "      <td>50</td>\n",
       "    </tr>\n",
       "  </tbody>\n",
       "</table>\n",
       "</div>"
      ],
      "text/plain": [
       "                  Colour\n",
       "Price Name              \n",
       "7499  realme C20      50"
      ]
     },
     "execution_count": 65,
     "metadata": {},
     "output_type": "execute_result"
    }
   ],
   "source": [
    "mData.groupby(['Price', 'Name']).count().loc[:7499, :'Colour']"
   ]
  },
  {
   "cell_type": "code",
   "execution_count": 59,
   "id": "55eb321b",
   "metadata": {},
   "outputs": [
    {
     "data": {
      "text/plain": [
       "(16999, 7499)"
      ]
     },
     "execution_count": 59,
     "metadata": {},
     "output_type": "execute_result"
    }
   ],
   "source": [
    "mData.Price.max(), mData.Price.min()"
   ]
  },
  {
   "cell_type": "code",
   "execution_count": 49,
   "id": "b2bcd573",
   "metadata": {},
   "outputs": [
    {
     "data": {
      "image/png": "[encoded data removed]",
      "text/plain": [
       "<Figure size 660.5x360 with 1 Axes>"
      ]
     },
     "metadata": {
      "needs_background": "light"
     },
     "output_type": "display_data"
    }
   ],
   "source": [
    "sns.catplot(x='Name',y='Price',kind='swarm',hue='Colour',data=mData,aspect=1.5)\n",
    "plt.xticks(rotation = 90)\n",
    "plt.show()"
   ]
  },
  {
   "cell_type": "markdown",
   "id": "40c5fdc3",
   "metadata": {},
   "source": [
    "#### Interpretation"
   ]
  },
  {
   "cell_type": "markdown",
   "id": "dc3311f7",
   "metadata": {},
   "source": [
    "  - In this plot the mobiles MOTOROLA G60 and SAMSUNG Galaxy F23 5G models have the highest Price.\n",
    "  - The lowest price mobile is realme C20."
   ]
  },
  {
   "cell_type": "markdown",
   "id": "01240bb2",
   "metadata": {},
   "source": [
    "###  Plot for the Front_cam , Rear_cam and mobile Name"
   ]
  },
  {
   "cell_type": "code",
   "execution_count": 214,
   "id": "2dd4864c",
   "metadata": {},
   "outputs": [
    {
     "data": {
      "image/png": "[encoded data removed]",
      "text/plain": [
       "<Figure size 402.375x360 with 1 Axes>"
      ]
     },
     "metadata": {
      "needs_background": "light"
     },
     "output_type": "display_data"
    }
   ],
   "source": [
    "sns.relplot(x='Rear_cam', y='Name',hue='Ram',data=mData)\n",
    "plt.show()"
   ]
  },
  {
   "cell_type": "markdown",
   "id": "b3b3cb5d",
   "metadata": {},
   "source": [
    "### Interpretations"
   ]
  },
  {
   "cell_type": "markdown",
   "id": "7631af0e",
   "metadata": {},
   "source": [
    "\n",
    "  - REDME 10 with Rear cam of '48 mp' and which has '6gb' ram \n",
    "  - Motorola G60 with Rearcam of '108mp' , ram of '6gb'\n",
    "  - Motorola G60 with Rearcam of '8mp' , ram of '6gb' and etc"
   ]
  },
  {
   "cell_type": "markdown",
   "id": "70b766b9",
   "metadata": {},
   "source": [
    "###  Screen size of mobile"
   ]
  },
  {
   "cell_type": "code",
   "execution_count": 236,
   "id": "4b945ec4",
   "metadata": {},
   "outputs": [
    {
     "data": {
      "text/plain": [
       "6.50    215\n",
       "6.60    136\n",
       "6.53    100\n",
       "6.70     99\n",
       "6.78     25\n",
       "6.59     25\n",
       "Name: Screen_size, dtype: int64"
      ]
     },
     "execution_count": 236,
     "metadata": {},
     "output_type": "execute_result"
    }
   ],
   "source": [
    "mData.Screen_size.value_counts()"
   ]
  },
  {
   "cell_type": "code",
   "execution_count": 235,
   "id": "61a6eab3",
   "metadata": {},
   "outputs": [
    {
     "data": {
      "image/png": "[encoded data removed]",
      "text/plain": [
       "<Figure size 432x288 with 1 Axes>"
      ]
     },
     "metadata": {
      "needs_background": "light"
     },
     "output_type": "display_data"
    }
   ],
   "source": [
    "# segment categoric count plot Screen_size, Name\n",
    "\n",
    "sns.countplot(x='Name', hue='Screen_size', data=mData)\n",
    "plt.xticks(rotation =50 )\n",
    "plt.show()"
   ]
  },
  {
   "cell_type": "markdown",
   "id": "32e71e20",
   "metadata": {},
   "source": [
    "#### Interpretations"
   ]
  },
  {
   "cell_type": "markdown",
   "id": "8a83cd70",
   "metadata": {},
   "source": [
    "\n",
    "  - Screen size of  MOTOROLA G60 and REDMI 10 is '6.7' and thier count is '99'\n",
    "  - the number of '6.5' inch mobile phones are '250'\n",
    "  - The lowest count mobiles are POCO M3 Pro 5G"
   ]
  },
  {
   "cell_type": "code",
   "execution_count": null,
   "id": "c012128e",
   "metadata": {},
   "outputs": [],
   "source": []
  },
  {
   "cell_type": "markdown",
   "id": "9807447d",
   "metadata": {},
   "source": [
    "### univariant analysis for quantitative data\n",
    "#### Price, Front_cam, Rear_cam, Rom , Ram and Battery"
   ]
  },
  {
   "cell_type": "code",
   "execution_count": 206,
   "id": "c1f374cb",
   "metadata": {},
   "outputs": [
    {
     "data": {
      "image/png": "[encoded data removed]",
      "text/plain": [
       "<Figure size 864x864 with 6 Axes>"
      ]
     },
     "metadata": {
      "needs_background": "light"
     },
     "output_type": "display_data"
    }
   ],
   "source": [
    "\n",
    "fix, ax = plt.subplots(3,2,figsize=(12,12))\n",
    "\n",
    "sns.distplot(mData['Price'], ax=ax[0,0])\n",
    "sns.distplot(mData['Front_cam'], ax=ax[1,1])\n",
    "sns.distplot(mData['Rear_cam'], ax=ax[1,0])\n",
    "sns.distplot(mData['Battery'], ax=ax[0,1])\n",
    "sns.distplot(mData['Rom'], ax=ax[2,0])\n",
    "sns.distplot(mData['Ram'], ax=ax[2,1])\n",
    "\n",
    "\n",
    "plt.show()"
   ]
  },
  {
   "cell_type": "markdown",
   "id": "9a3f62bf",
   "metadata": {},
   "source": [
    "#### Interpretations"
   ]
  },
  {
   "cell_type": "markdown",
   "id": "a69dbf59",
   "metadata": {},
   "source": [
    "- From battery plot, most of the data is distributed at '5000 mah'\n",
    "- From Ram plot, most of the data is distributed at '4 gb'\n",
    "- From Rom plot, most of the data is distributed at '64gb'"
   ]
  },
  {
   "cell_type": "markdown",
   "id": "73b0262a",
   "metadata": {},
   "source": [
    "### pie chart btw Price or Ram\n"
   ]
  },
  {
   "cell_type": "code",
   "execution_count": 134,
   "id": "8e200ec9",
   "metadata": {},
   "outputs": [
    {
     "data": {
      "image/png": "[encoded data removed]",
      "text/plain": [
       "<Figure size 432x288 with 1 Axes>"
      ]
     },
     "metadata": {},
     "output_type": "display_data"
    },
    {
     "data": {
      "image/png": "[encoded data removed]",
      "text/plain": [
       "<Figure size 432x288 with 1 Axes>"
      ]
     },
     "metadata": {},
     "output_type": "display_data"
    }
   ],
   "source": [
    "mData.Price.value_counts().plot.pie()\n",
    "plt.show()\n",
    "mData.Ram.value_counts().plot.pie()\n",
    "plt.show()"
   ]
  },
  {
   "cell_type": "markdown",
   "id": "d040c290",
   "metadata": {},
   "source": [
    "#### interpretations"
   ]
  },
  {
   "cell_type": "markdown",
   "id": "c6798fe9",
   "metadata": {},
   "source": [
    "- This Graph is Pie chart Graph btw ram and Price\n",
    "- In price chart shows How many phones are in same price, In a circle all price written.\n",
    "- All prices are shown different color.\n",
    "- Those which shows more area so these price phones are more in Mobiledata."
   ]
  },
  {
   "cell_type": "markdown",
   "id": "d0533ae0",
   "metadata": {},
   "source": [
    "### Heat map"
   ]
  },
  {
   "cell_type": "code",
   "execution_count": 249,
   "id": "e4589477",
   "metadata": {},
   "outputs": [],
   "source": [
    "corre = mData[['Price', 'Front_cam', 'Rear_cam', 'Battery', 'Screen_size']]"
   ]
  },
  {
   "cell_type": "code",
   "execution_count": 257,
   "id": "25ef6c58",
   "metadata": {},
   "outputs": [],
   "source": [
    "corr = corre.corr()"
   ]
  },
  {
   "cell_type": "code",
   "execution_count": 258,
   "id": "e8507d80",
   "metadata": {},
   "outputs": [
    {
     "data": {
      "text/plain": [
       "Text(0.5, 1.0, 'Corelation')"
      ]
     },
     "execution_count": 258,
     "metadata": {},
     "output_type": "execute_result"
    },
    {
     "data": {
      "image/png": "[encoded data removed]",
      "text/plain": [
       "<Figure size 1008x720 with 2 Axes>"
      ]
     },
     "metadata": {},
     "output_type": "display_data"
    }
   ],
   "source": [
    "sns.set(font_scale=1.15)\n",
    "plt.figure(figsize=(14, 10))\n",
    "sns.heatmap(corr,  vmax=0.9, linewidths=0.02,\n",
    "           square=True,\n",
    "            annot=True,\n",
    "            cmap='YlGnBu',\n",
    "            linecolor=\"black\")\n",
    "plt.title('Corelation')"
   ]
  },
  {
   "cell_type": "markdown",
   "id": "a119452e",
   "metadata": {},
   "source": [
    "#### Interpretations"
   ]
  },
  {
   "cell_type": "markdown",
   "id": "8882a4eb",
   "metadata": {},
   "source": [
    "- the Screensize and Price has positive correlation \n",
    "- the Screensize and Rearcam has strong positive correlation\n",
    "- the Price and Rearcam has strong positive correlation\n",
    "- the Battery and Frontrcam has weak positive correlation"
   ]
  },
  {
   "cell_type": "code",
   "execution_count": null,
   "id": "481db627",
   "metadata": {},
   "outputs": [],
   "source": []
  },
  {
   "cell_type": "markdown",
   "id": "bc21361a",
   "metadata": {},
   "source": [
    "### what are the phones avaliable in the range of 12000 to 18000 with ram of 6GB?"
   ]
  },
  {
   "cell_type": "code",
   "execution_count": 158,
   "id": "a9d4b262",
   "metadata": {},
   "outputs": [
    {
     "data": {
      "text/html": [
       "<div>\n",
       "<style scoped>\n",
       "    .dataframe tbody tr th:only-of-type {\n",
       "        vertical-align: middle;\n",
       "    }\n",
       "\n",
       "    .dataframe tbody tr th {\n",
       "        vertical-align: top;\n",
       "    }\n",
       "\n",
       "    .dataframe thead th {\n",
       "        text-align: right;\n",
       "    }\n",
       "</style>\n",
       "<table border=\"1\" class=\"dataframe\">\n",
       "  <thead>\n",
       "    <tr style=\"text-align: right;\">\n",
       "      <th></th>\n",
       "      <th>Name</th>\n",
       "      <th>Colour</th>\n",
       "      <th>Rom</th>\n",
       "      <th>Ram</th>\n",
       "      <th>Screen_size</th>\n",
       "      <th>Rear_cam</th>\n",
       "      <th>Front_cam</th>\n",
       "      <th>Battery</th>\n",
       "      <th>Processor</th>\n",
       "      <th>Price</th>\n",
       "    </tr>\n",
       "  </thead>\n",
       "  <tbody>\n",
       "    <tr>\n",
       "      <th>3</th>\n",
       "      <td>OPPO K10</td>\n",
       "      <td>Black Carbon</td>\n",
       "      <td>128</td>\n",
       "      <td>6</td>\n",
       "      <td>6.59</td>\n",
       "      <td>50</td>\n",
       "      <td>16</td>\n",
       "      <td>5000</td>\n",
       "      <td>Qualcomm Snapdragon 680</td>\n",
       "      <td>14990</td>\n",
       "    </tr>\n",
       "    <tr>\n",
       "      <th>4</th>\n",
       "      <td>MOTOROLA G60</td>\n",
       "      <td>Soft Silver</td>\n",
       "      <td>128</td>\n",
       "      <td>6</td>\n",
       "      <td>6.78</td>\n",
       "      <td>108</td>\n",
       "      <td>32</td>\n",
       "      <td>6000</td>\n",
       "      <td>Qualcomm Snapdragon 732G</td>\n",
       "      <td>16999</td>\n",
       "    </tr>\n",
       "    <tr>\n",
       "      <th>18</th>\n",
       "      <td>REDMI 10</td>\n",
       "      <td>Caribbean Green</td>\n",
       "      <td>128</td>\n",
       "      <td>6</td>\n",
       "      <td>6.70</td>\n",
       "      <td>50</td>\n",
       "      <td>5</td>\n",
       "      <td>6000</td>\n",
       "      <td>Qualcomm Snapdragon 680</td>\n",
       "      <td>12999</td>\n",
       "    </tr>\n",
       "    <tr>\n",
       "      <th>19</th>\n",
       "      <td>REDMI 10</td>\n",
       "      <td>Midnight Black</td>\n",
       "      <td>128</td>\n",
       "      <td>6</td>\n",
       "      <td>6.70</td>\n",
       "      <td>50</td>\n",
       "      <td>5</td>\n",
       "      <td>6000</td>\n",
       "      <td>Qualcomm Snapdragon 680</td>\n",
       "      <td>12999</td>\n",
       "    </tr>\n",
       "    <tr>\n",
       "      <th>23</th>\n",
       "      <td>POCO M3 Pro 5G</td>\n",
       "      <td>Cool Blue</td>\n",
       "      <td>128</td>\n",
       "      <td>6</td>\n",
       "      <td>6.50</td>\n",
       "      <td>48</td>\n",
       "      <td>8</td>\n",
       "      <td>5000</td>\n",
       "      <td>MediaTek Dimensity 700</td>\n",
       "      <td>13999</td>\n",
       "    </tr>\n",
       "    <tr>\n",
       "      <th>...</th>\n",
       "      <td>...</td>\n",
       "      <td>...</td>\n",
       "      <td>...</td>\n",
       "      <td>...</td>\n",
       "      <td>...</td>\n",
       "      <td>...</td>\n",
       "      <td>...</td>\n",
       "      <td>...</td>\n",
       "      <td>...</td>\n",
       "      <td>...</td>\n",
       "    </tr>\n",
       "    <tr>\n",
       "      <th>579</th>\n",
       "      <td>OPPO K10</td>\n",
       "      <td>Blue Flame</td>\n",
       "      <td>128</td>\n",
       "      <td>6</td>\n",
       "      <td>6.59</td>\n",
       "      <td>50</td>\n",
       "      <td>16</td>\n",
       "      <td>5000</td>\n",
       "      <td>Qualcomm Snapdragon 680</td>\n",
       "      <td>14990</td>\n",
       "    </tr>\n",
       "    <tr>\n",
       "      <th>587</th>\n",
       "      <td>SAMSUNG Galaxy F23 5G</td>\n",
       "      <td>Forest Green</td>\n",
       "      <td>128</td>\n",
       "      <td>6</td>\n",
       "      <td>6.60</td>\n",
       "      <td>50</td>\n",
       "      <td>8</td>\n",
       "      <td>5000</td>\n",
       "      <td>Qualcomm Snapdragon 750G</td>\n",
       "      <td>16999</td>\n",
       "    </tr>\n",
       "    <tr>\n",
       "      <th>591</th>\n",
       "      <td>SAMSUNG Galaxy F23 5G</td>\n",
       "      <td>Aqua Blue</td>\n",
       "      <td>128</td>\n",
       "      <td>6</td>\n",
       "      <td>6.60</td>\n",
       "      <td>50</td>\n",
       "      <td>8</td>\n",
       "      <td>5000</td>\n",
       "      <td>Qualcomm Snapdragon 750G</td>\n",
       "      <td>16999</td>\n",
       "    </tr>\n",
       "    <tr>\n",
       "      <th>597</th>\n",
       "      <td>REDMI 10</td>\n",
       "      <td>Caribbean Green</td>\n",
       "      <td>128</td>\n",
       "      <td>6</td>\n",
       "      <td>6.70</td>\n",
       "      <td>50</td>\n",
       "      <td>5</td>\n",
       "      <td>6000</td>\n",
       "      <td>Qualcomm Snapdragon 680</td>\n",
       "      <td>12999</td>\n",
       "    </tr>\n",
       "    <tr>\n",
       "      <th>598</th>\n",
       "      <td>REDMI 10</td>\n",
       "      <td>Midnight Black</td>\n",
       "      <td>128</td>\n",
       "      <td>6</td>\n",
       "      <td>6.70</td>\n",
       "      <td>50</td>\n",
       "      <td>5</td>\n",
       "      <td>6000</td>\n",
       "      <td>Qualcomm Snapdragon 680</td>\n",
       "      <td>12999</td>\n",
       "    </tr>\n",
       "  </tbody>\n",
       "</table>\n",
       "<p>134 rows × 10 columns</p>\n",
       "</div>"
      ],
      "text/plain": [
       "                      Name           Colour  Rom  Ram  Screen_size  Rear_cam  \\\n",
       "3                 OPPO K10     Black Carbon  128    6         6.59        50   \n",
       "4             MOTOROLA G60      Soft Silver  128    6         6.78       108   \n",
       "18                REDMI 10  Caribbean Green  128    6         6.70        50   \n",
       "19                REDMI 10   Midnight Black  128    6         6.70        50   \n",
       "23          POCO M3 Pro 5G        Cool Blue  128    6         6.50        48   \n",
       "..                     ...              ...  ...  ...          ...       ...   \n",
       "579               OPPO K10       Blue Flame  128    6         6.59        50   \n",
       "587  SAMSUNG Galaxy F23 5G     Forest Green  128    6         6.60        50   \n",
       "591  SAMSUNG Galaxy F23 5G        Aqua Blue  128    6         6.60        50   \n",
       "597               REDMI 10  Caribbean Green  128    6         6.70        50   \n",
       "598               REDMI 10   Midnight Black  128    6         6.70        50   \n",
       "\n",
       "     Front_cam  Battery                  Processor  Price  \n",
       "3           16     5000   Qualcomm Snapdragon 680   14990  \n",
       "4           32     6000  Qualcomm Snapdragon 732G   16999  \n",
       "18           5     6000   Qualcomm Snapdragon 680   12999  \n",
       "19           5     6000   Qualcomm Snapdragon 680   12999  \n",
       "23           8     5000    MediaTek Dimensity 700   13999  \n",
       "..         ...      ...                        ...    ...  \n",
       "579         16     5000   Qualcomm Snapdragon 680   14990  \n",
       "587          8     5000  Qualcomm Snapdragon 750G   16999  \n",
       "591          8     5000  Qualcomm Snapdragon 750G   16999  \n",
       "597          5     6000   Qualcomm Snapdragon 680   12999  \n",
       "598          5     6000   Qualcomm Snapdragon 680   12999  \n",
       "\n",
       "[134 rows x 10 columns]"
      ]
     },
     "execution_count": 158,
     "metadata": {},
     "output_type": "execute_result"
    }
   ],
   "source": [
    "m1 = mData.query('Price > 12000 & Price < 18000 & Ram == 6')\n",
    "m1"
   ]
  },
  {
   "cell_type": "code",
   "execution_count": 159,
   "id": "24172209",
   "metadata": {},
   "outputs": [
    {
     "name": "stdout",
     "output_type": "stream",
     "text": [
      "5\n"
     ]
    },
    {
     "data": {
      "text/plain": [
       "array(['OPPO K10', 'MOTOROLA G60', 'REDMI 10', 'POCO M3 Pro 5G',\n",
       "       'SAMSUNG Galaxy F23 5G'], dtype=object)"
      ]
     },
     "execution_count": 159,
     "metadata": {},
     "output_type": "execute_result"
    }
   ],
   "source": [
    "print(m1.Name.nunique())\n",
    "m1.Name.unique()"
   ]
  },
  {
   "cell_type": "code",
   "execution_count": 160,
   "id": "15b1772a",
   "metadata": {},
   "outputs": [
    {
     "name": "stdout",
     "output_type": "stream",
     "text": [
      "8\n"
     ]
    },
    {
     "data": {
      "text/plain": [
       "array(['Black Carbon', 'Soft Silver', 'Caribbean Green', 'Midnight Black',\n",
       "       'Cool Blue', 'Blue Flame', 'Forest Green', 'Aqua Blue'],\n",
       "      dtype=object)"
      ]
     },
     "execution_count": 160,
     "metadata": {},
     "output_type": "execute_result"
    }
   ],
   "source": [
    "print(m1.Colour.nunique())\n",
    "m1.Colour.unique()"
   ]
  },
  {
   "cell_type": "code",
   "execution_count": 115,
   "id": "b4612420",
   "metadata": {},
   "outputs": [
    {
     "data": {
      "image/png": "[encoded data removed]",
      "text/plain": [
       "<Figure size 432x288 with 1 Axes>"
      ]
     },
     "metadata": {
      "needs_background": "light"
     },
     "output_type": "display_data"
    }
   ],
   "source": [
    "sns.countplot(y='Name', hue='Price',data=m1)\n",
    "plt.show()"
   ]
  },
  {
   "cell_type": "code",
   "execution_count": 173,
   "id": "66694a0e",
   "metadata": {},
   "outputs": [
    {
     "data": {
      "image/png": "[encoded data removed]",
      "text/plain": [
       "<Figure size 432x288 with 1 Axes>"
      ]
     },
     "metadata": {
      "needs_background": "light"
     },
     "output_type": "display_data"
    }
   ],
   "source": [
    "sns.countplot(y='Colour', hue='Name',data=m1)\n",
    "plt.show()"
   ]
  },
  {
   "cell_type": "code",
   "execution_count": 127,
   "id": "6e23caa5",
   "metadata": {},
   "outputs": [
    {
     "data": {
      "image/png": "[encoded data removed]",
      "text/plain": [
       "<Figure size 432x288 with 1 Axes>"
      ]
     },
     "metadata": {
      "needs_background": "light"
     },
     "output_type": "display_data"
    }
   ],
   "source": [
    "plt.bar('Name', 'Price', Color='green', width = 0.7, data=m1)\n",
    "plt.xlabel('Name')\n",
    "plt.ylabel('Price')\n",
    "plt.title('Prices of models')\n",
    "plt.xticks(rotation = 30)\n",
    "plt.show()"
   ]
  },
  {
   "cell_type": "markdown",
   "id": "bfa4f3a5",
   "metadata": {},
   "source": [
    "#### interpretations"
   ]
  },
  {
   "cell_type": "markdown",
   "id": "1f55ff02",
   "metadata": {},
   "source": [
    "- there are 5 unique mobile phones are avalible between the range of 12000 to 18000.\n",
    "- in that the highest price is 16999 which is MOTOROLA G60 with the ram 6gb,  Front_cam fo 33mp , Rearcam of 108mp.And 25 same mobile pieces are avalible\n",
    "- highst available mobille is Redmi 10 with count of nearly 50 and its price is 12999\n",
    "- least available mobile is POCO m3 pro 5g with count of around 15 and its  price 13999\n",
    "- Having the 8 unique colours"
   ]
  },
  {
   "cell_type": "markdown",
   "id": "7f4a1c10",
   "metadata": {},
   "source": [
    "### what are the phones avaliable with atleast ram of 4GB , Rear cam of 48MP and Front cam of 16MP  ?"
   ]
  },
  {
   "cell_type": "code",
   "execution_count": 164,
   "id": "77ca304f",
   "metadata": {},
   "outputs": [
    {
     "data": {
      "text/plain": [
       "array([  8,  13,  50, 108,  48], dtype=int64)"
      ]
     },
     "execution_count": 164,
     "metadata": {},
     "output_type": "execute_result"
    }
   ],
   "source": [
    "mData.Rear_cam.unique()"
   ]
  },
  {
   "cell_type": "code",
   "execution_count": 165,
   "id": "cc18f6b9",
   "metadata": {},
   "outputs": [
    {
     "data": {
      "text/plain": [
       "array([ 5, 16, 32,  8], dtype=int64)"
      ]
     },
     "execution_count": 165,
     "metadata": {},
     "output_type": "execute_result"
    }
   ],
   "source": [
    "mData.Front_cam.unique()"
   ]
  },
  {
   "cell_type": "code",
   "execution_count": 68,
   "id": "a9cb89b1",
   "metadata": {},
   "outputs": [
    {
     "data": {
      "text/html": [
       "<div>\n",
       "<style scoped>\n",
       "    .dataframe tbody tr th:only-of-type {\n",
       "        vertical-align: middle;\n",
       "    }\n",
       "\n",
       "    .dataframe tbody tr th {\n",
       "        vertical-align: top;\n",
       "    }\n",
       "\n",
       "    .dataframe thead th {\n",
       "        text-align: right;\n",
       "    }\n",
       "</style>\n",
       "<table border=\"1\" class=\"dataframe\">\n",
       "  <thead>\n",
       "    <tr style=\"text-align: right;\">\n",
       "      <th></th>\n",
       "      <th>Name</th>\n",
       "      <th>Colour</th>\n",
       "      <th>Rom</th>\n",
       "      <th>Ram</th>\n",
       "      <th>Screen_size</th>\n",
       "      <th>Rear_cam</th>\n",
       "      <th>Front_cam</th>\n",
       "      <th>Battery</th>\n",
       "      <th>Processor</th>\n",
       "      <th>Price</th>\n",
       "    </tr>\n",
       "  </thead>\n",
       "  <tbody>\n",
       "    <tr>\n",
       "      <th>3</th>\n",
       "      <td>OPPO K10</td>\n",
       "      <td>Black Carbon</td>\n",
       "      <td>128</td>\n",
       "      <td>6</td>\n",
       "      <td>6.59</td>\n",
       "      <td>50</td>\n",
       "      <td>16</td>\n",
       "      <td>5000</td>\n",
       "      <td>Qualcomm Snapdragon 680</td>\n",
       "      <td>14990</td>\n",
       "    </tr>\n",
       "    <tr>\n",
       "      <th>4</th>\n",
       "      <td>MOTOROLA G60</td>\n",
       "      <td>Soft Silver</td>\n",
       "      <td>128</td>\n",
       "      <td>6</td>\n",
       "      <td>6.78</td>\n",
       "      <td>108</td>\n",
       "      <td>32</td>\n",
       "      <td>6000</td>\n",
       "      <td>Qualcomm Snapdragon 732G</td>\n",
       "      <td>16999</td>\n",
       "    </tr>\n",
       "    <tr>\n",
       "      <th>16</th>\n",
       "      <td>realme 9i</td>\n",
       "      <td>Prism Blue</td>\n",
       "      <td>64</td>\n",
       "      <td>4</td>\n",
       "      <td>6.60</td>\n",
       "      <td>50</td>\n",
       "      <td>16</td>\n",
       "      <td>5000</td>\n",
       "      <td>Qualcomm Snapdragon 680 (SM6225)</td>\n",
       "      <td>12999</td>\n",
       "    </tr>\n",
       "    <tr>\n",
       "      <th>17</th>\n",
       "      <td>realme 9i</td>\n",
       "      <td>Prism Black</td>\n",
       "      <td>64</td>\n",
       "      <td>4</td>\n",
       "      <td>6.60</td>\n",
       "      <td>50</td>\n",
       "      <td>16</td>\n",
       "      <td>5000</td>\n",
       "      <td>Qualcomm Snapdragon 680 (SM6225)</td>\n",
       "      <td>12999</td>\n",
       "    </tr>\n",
       "    <tr>\n",
       "      <th>21</th>\n",
       "      <td>realme 9i</td>\n",
       "      <td>Prism Black</td>\n",
       "      <td>128</td>\n",
       "      <td>4</td>\n",
       "      <td>6.60</td>\n",
       "      <td>50</td>\n",
       "      <td>16</td>\n",
       "      <td>5000</td>\n",
       "      <td>Qualcomm Snapdragon 680 (SM6225)</td>\n",
       "      <td>14999</td>\n",
       "    </tr>\n",
       "    <tr>\n",
       "      <th>...</th>\n",
       "      <td>...</td>\n",
       "      <td>...</td>\n",
       "      <td>...</td>\n",
       "      <td>...</td>\n",
       "      <td>...</td>\n",
       "      <td>...</td>\n",
       "      <td>...</td>\n",
       "      <td>...</td>\n",
       "      <td>...</td>\n",
       "      <td>...</td>\n",
       "    </tr>\n",
       "    <tr>\n",
       "      <th>572</th>\n",
       "      <td>realme 9i</td>\n",
       "      <td>Prism Black</td>\n",
       "      <td>128</td>\n",
       "      <td>4</td>\n",
       "      <td>6.60</td>\n",
       "      <td>50</td>\n",
       "      <td>16</td>\n",
       "      <td>5000</td>\n",
       "      <td>Qualcomm Snapdragon 680 (SM6225)</td>\n",
       "      <td>14999</td>\n",
       "    </tr>\n",
       "    <tr>\n",
       "      <th>578</th>\n",
       "      <td>MOTOROLA G60</td>\n",
       "      <td>Soft Silver</td>\n",
       "      <td>128</td>\n",
       "      <td>6</td>\n",
       "      <td>6.78</td>\n",
       "      <td>108</td>\n",
       "      <td>32</td>\n",
       "      <td>6000</td>\n",
       "      <td>Qualcomm Snapdragon 732G</td>\n",
       "      <td>16999</td>\n",
       "    </tr>\n",
       "    <tr>\n",
       "      <th>579</th>\n",
       "      <td>OPPO K10</td>\n",
       "      <td>Blue Flame</td>\n",
       "      <td>128</td>\n",
       "      <td>6</td>\n",
       "      <td>6.59</td>\n",
       "      <td>50</td>\n",
       "      <td>16</td>\n",
       "      <td>5000</td>\n",
       "      <td>Qualcomm Snapdragon 680</td>\n",
       "      <td>14990</td>\n",
       "    </tr>\n",
       "    <tr>\n",
       "      <th>594</th>\n",
       "      <td>realme 9i</td>\n",
       "      <td>Prism Black</td>\n",
       "      <td>64</td>\n",
       "      <td>4</td>\n",
       "      <td>6.60</td>\n",
       "      <td>50</td>\n",
       "      <td>16</td>\n",
       "      <td>5000</td>\n",
       "      <td>Qualcomm Snapdragon 680 (SM6225)</td>\n",
       "      <td>12999</td>\n",
       "    </tr>\n",
       "    <tr>\n",
       "      <th>596</th>\n",
       "      <td>realme 9i</td>\n",
       "      <td>Prism Blue</td>\n",
       "      <td>64</td>\n",
       "      <td>4</td>\n",
       "      <td>6.60</td>\n",
       "      <td>50</td>\n",
       "      <td>16</td>\n",
       "      <td>5000</td>\n",
       "      <td>Qualcomm Snapdragon 680 (SM6225)</td>\n",
       "      <td>12999</td>\n",
       "    </tr>\n",
       "  </tbody>\n",
       "</table>\n",
       "<p>115 rows × 10 columns</p>\n",
       "</div>"
      ],
      "text/plain": [
       "             Name        Colour  Rom  Ram  Screen_size  Rear_cam  Front_cam  \\\n",
       "3        OPPO K10  Black Carbon  128    6         6.59        50         16   \n",
       "4    MOTOROLA G60   Soft Silver  128    6         6.78       108         32   \n",
       "16      realme 9i    Prism Blue   64    4         6.60        50         16   \n",
       "17      realme 9i   Prism Black   64    4         6.60        50         16   \n",
       "21      realme 9i   Prism Black  128    4         6.60        50         16   \n",
       "..            ...           ...  ...  ...          ...       ...        ...   \n",
       "572     realme 9i   Prism Black  128    4         6.60        50         16   \n",
       "578  MOTOROLA G60   Soft Silver  128    6         6.78       108         32   \n",
       "579      OPPO K10    Blue Flame  128    6         6.59        50         16   \n",
       "594     realme 9i   Prism Black   64    4         6.60        50         16   \n",
       "596     realme 9i    Prism Blue   64    4         6.60        50         16   \n",
       "\n",
       "     Battery                          Processor  Price  \n",
       "3       5000           Qualcomm Snapdragon 680   14990  \n",
       "4       6000          Qualcomm Snapdragon 732G   16999  \n",
       "16      5000  Qualcomm Snapdragon 680 (SM6225)   12999  \n",
       "17      5000  Qualcomm Snapdragon 680 (SM6225)   12999  \n",
       "21      5000  Qualcomm Snapdragon 680 (SM6225)   14999  \n",
       "..       ...                                ...    ...  \n",
       "572     5000  Qualcomm Snapdragon 680 (SM6225)   14999  \n",
       "578     6000          Qualcomm Snapdragon 732G   16999  \n",
       "579     5000           Qualcomm Snapdragon 680   14990  \n",
       "594     5000  Qualcomm Snapdragon 680 (SM6225)   12999  \n",
       "596     5000  Qualcomm Snapdragon 680 (SM6225)   12999  \n",
       "\n",
       "[115 rows x 10 columns]"
      ]
     },
     "execution_count": 68,
     "metadata": {},
     "output_type": "execute_result"
    }
   ],
   "source": [
    "m2 = mData.query('Ram >= 4 & Rear_cam >=48 & Front_cam >=16')\n",
    "m2"
   ]
  },
  {
   "cell_type": "code",
   "execution_count": 183,
   "id": "824522a4",
   "metadata": {},
   "outputs": [
    {
     "name": "stdout",
     "output_type": "stream",
     "text": [
      "3\n"
     ]
    },
    {
     "data": {
      "text/plain": [
       "array(['OPPO K10', 'MOTOROLA G60', 'realme 9i'], dtype=object)"
      ]
     },
     "execution_count": 183,
     "metadata": {},
     "output_type": "execute_result"
    }
   ],
   "source": [
    "print(m2.Name.nunique())\n",
    "m2.Name.unique()"
   ]
  },
  {
   "cell_type": "code",
   "execution_count": 184,
   "id": "10270d72",
   "metadata": {},
   "outputs": [
    {
     "name": "stdout",
     "output_type": "stream",
     "text": [
      "5\n"
     ]
    },
    {
     "data": {
      "text/plain": [
       "array(['Black Carbon', 'Soft Silver', 'Prism Blue', 'Prism Black',\n",
       "       'Blue Flame'], dtype=object)"
      ]
     },
     "execution_count": 184,
     "metadata": {},
     "output_type": "execute_result"
    }
   ],
   "source": [
    "print(m2.Colour.nunique())\n",
    "m2.Colour.unique()"
   ]
  },
  {
   "cell_type": "code",
   "execution_count": 110,
   "id": "0d7d227a",
   "metadata": {},
   "outputs": [
    {
     "data": {
      "text/plain": [
       "array([16, 32], dtype=int64)"
      ]
     },
     "execution_count": 110,
     "metadata": {},
     "output_type": "execute_result"
    }
   ],
   "source": [
    "m2.Front_cam.unique()"
   ]
  },
  {
   "cell_type": "code",
   "execution_count": 69,
   "id": "2748583e",
   "metadata": {},
   "outputs": [
    {
     "data": {
      "image/png": "[encoded data removed]",
      "text/plain": [
       "<Figure size 432x288 with 1 Axes>"
      ]
     },
     "metadata": {
      "needs_background": "light"
     },
     "output_type": "display_data"
    }
   ],
   "source": [
    "sns.countplot(y='Name', hue='Price',data=m2)\n",
    "plt.show()"
   ]
  },
  {
   "cell_type": "code",
   "execution_count": 114,
   "id": "9ae9f5b4",
   "metadata": {},
   "outputs": [
    {
     "data": {
      "image/png": "[encoded data removed]",
      "text/plain": [
       "<Figure size 432x288 with 1 Axes>"
      ]
     },
     "metadata": {
      "needs_background": "light"
     },
     "output_type": "display_data"
    }
   ],
   "source": [
    "sns.countplot(y='Name', hue='Front_cam' ,data=m2)\n",
    "plt.show()"
   ]
  },
  {
   "cell_type": "code",
   "execution_count": 116,
   "id": "e8851daf",
   "metadata": {},
   "outputs": [
    {
     "data": {
      "image/png": "[encoded data removed]",
      "text/plain": [
       "<Figure size 499.875x360 with 2 Axes>"
      ]
     },
     "metadata": {
      "needs_background": "light"
     },
     "output_type": "display_data"
    }
   ],
   "source": [
    "sns.catplot(y='Name',x='Front_cam',col='Rear_cam',kind='swarm', hue='Price',data=m2,aspect=0.6)\n",
    "\n",
    "plt.show()"
   ]
  },
  {
   "cell_type": "markdown",
   "id": "fb1e1125",
   "metadata": {},
   "source": [
    "#### interpretations"
   ]
  },
  {
   "cell_type": "markdown",
   "id": "ae08e88e",
   "metadata": {},
   "source": [
    "- there are 3 phones available with atleast ram of 4GB , Rear cam of 48MP and Front cam of 16MP.\n",
    "they are OPPO K10, MOOTOROLA G60 and realme9i\n",
    "- with Rear cam 50MP OPPO K10 is available with the price of 14990 and has front cam of 16MP.\n",
    "- with Rear cam 50MP realme 9i is available with the price of 12999 and has front cam of 16MP.\n",
    "- with Rear cam 108MP MOTOROLA G60 is available with the price of 16999 and has front cam of 32MP."
   ]
  },
  {
   "cell_type": "code",
   "execution_count": null,
   "id": "800289ba",
   "metadata": {},
   "outputs": [],
   "source": []
  }
 ],
 "metadata": {
  "kernelspec": {
   "display_name": "Python 3 (ipykernel)",
   "language": "python",
   "name": "python3"
  },
  "language_info": {
   "codemirror_mode": {
    "name": "ipython",
    "version": 3
   },
   "file_extension": ".py",
   "mimetype": "text/x-python",
   "name": "python",
   "nbconvert_exporter": "python",
   "pygments_lexer": "ipython3",
   "version": "3.9.7"
  }
 },
 "nbformat": 4,
 "nbformat_minor": 5
}
